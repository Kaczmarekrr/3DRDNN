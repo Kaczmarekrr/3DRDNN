{
 "cells": [
  {
   "cell_type": "markdown",
   "metadata": {},
   "source": [
    "# 3DRDNN\n",
    "\n",
    "Main pipeline for research in my Master.\n",
    "\n",
    "## goals in this notebook\n",
    "\n",
    "Prepare the pipeline for any 3d DNN to train on CT data.\n",
    "1) data loader\n",
    "2) DNN\n",
    "3) Training\n",
    "4) Results comparison"
   ]
  },
  {
   "cell_type": "code",
   "execution_count": 21,
   "metadata": {},
   "outputs": [
    {
     "name": "stdout",
     "output_type": "stream",
     "text": [
      "TensorFlow Version: 2.8.0\n",
      "/device:GPU:0\n"
     ]
    }
   ],
   "source": [
    "# Testing reading GPU\n",
    "from distutils.version import LooseVersion\n",
    "import warnings\n",
    "import tensorflow as tf\n",
    "from matplotlib import pyplot as plt\n",
    "import numpy as np\n",
    "# Check TensorFlow Version\n",
    "print('TensorFlow Version: {}'.format(tf.__version__))\n",
    "\n",
    "# Check for a GPU\n",
    "if not tf.test.gpu_device_name():\n",
    "    warnings.warn('No GPU found. Please ensure you have installed TensorFlow correctly')\n",
    "else:\n",
    "    print(tf.test.gpu_device_name())"
   ]
  },
  {
   "cell_type": "code",
   "execution_count": 22,
   "metadata": {},
   "outputs": [
    {
     "name": "stdout",
     "output_type": "stream",
     "text": [
      "initalised with path data\\LITS_Challenge\\Training_Batch_2\n",
      "files: 103,103\n",
      "initalised with path data\\LITS_Challenge\\Training_Batch_1\n",
      "files: 28,28\n",
      "14635\n",
      "14918\n"
     ]
    }
   ],
   "source": [
    "# Data loader\n",
    "from utils import data_loader\n",
    "\n",
    "path_train = \"data\\LITS_Challenge\\Training_Batch_2\"\n",
    "path_valid = \"data\\LITS_Challenge\\Training_Batch_1\"\n",
    "\n",
    "loader_train = data_loader.NiiDataLoader(path_train)\n",
    "loader_valid = data_loader.NiiDataLoader(path_valid)\n",
    "\n",
    "train_generator = loader_train.data_generator_3d_lesion_chunks()\n",
    "valid_generator = loader_valid.data_generator_3d_lesion_chunks()\n",
    "\n",
    "\n",
    "\n",
    "\n",
    "\n",
    "#counter_train = loader_train.generator_data_len()\n",
    "#counter_valid = loader_valid.generator_data_len()\n",
    "\"\"\"counter_train = 0\n",
    "counter_valid = 0\n",
    "\n",
    "for x in train_generator:\n",
    "    counter_train += 1\n",
    "\n",
    "for x in valid_generator:\n",
    "    counter_valid += 1\"\"\"\n",
    "\n",
    "counter_train = 14635\n",
    "counter_valid = 14918\n",
    "\n",
    "print(counter_train)\n",
    "print(counter_valid)"
   ]
  },
  {
   "cell_type": "code",
   "execution_count": 23,
   "metadata": {},
   "outputs": [],
   "source": [
    "### learning rate schedule\n",
    "\n",
    "def scheduler(epoch, lr):\n",
    "    if epoch < 5:\n",
    "        lr = 0.001\n",
    "        return lr\n",
    "    else:\n",
    "        return lr * tf.math.exp(-0.05)"
   ]
  },
  {
   "cell_type": "code",
   "execution_count": 24,
   "metadata": {},
   "outputs": [
    {
     "name": "stdout",
     "output_type": "stream",
     "text": [
      "['D:\\\\tfrecords_train\\\\images0.tfrecords', 'D:\\\\tfrecords_train\\\\images1.tfrecords', 'D:\\\\tfrecords_train\\\\images10.tfrecords', 'D:\\\\tfrecords_train\\\\images11.tfrecords', 'D:\\\\tfrecords_train\\\\images12.tfrecords', 'D:\\\\tfrecords_train\\\\images13.tfrecords', 'D:\\\\tfrecords_train\\\\images14.tfrecords', 'D:\\\\tfrecords_train\\\\images15.tfrecords', 'D:\\\\tfrecords_train\\\\images16.tfrecords', 'D:\\\\tfrecords_train\\\\images17.tfrecords', 'D:\\\\tfrecords_train\\\\images18.tfrecords', 'D:\\\\tfrecords_train\\\\images19.tfrecords', 'D:\\\\tfrecords_train\\\\images2.tfrecords', 'D:\\\\tfrecords_train\\\\images20.tfrecords', 'D:\\\\tfrecords_train\\\\images21.tfrecords', 'D:\\\\tfrecords_train\\\\images22.tfrecords', 'D:\\\\tfrecords_train\\\\images23.tfrecords', 'D:\\\\tfrecords_train\\\\images24.tfrecords', 'D:\\\\tfrecords_train\\\\images25.tfrecords', 'D:\\\\tfrecords_train\\\\images26.tfrecords', 'D:\\\\tfrecords_train\\\\images27.tfrecords', 'D:\\\\tfrecords_train\\\\images28.tfrecords', 'D:\\\\tfrecords_train\\\\images29.tfrecords', 'D:\\\\tfrecords_train\\\\images3.tfrecords', 'D:\\\\tfrecords_train\\\\images4.tfrecords', 'D:\\\\tfrecords_train\\\\images5.tfrecords', 'D:\\\\tfrecords_train\\\\images6.tfrecords', 'D:\\\\tfrecords_train\\\\images7.tfrecords', 'D:\\\\tfrecords_train\\\\images8.tfrecords', 'D:\\\\tfrecords_train\\\\images9.tfrecords']\n",
      "(32, 256, 256, 1)\n",
      "(32, 256, 256, 2)\n",
      "['D:\\\\tfrecords_valid\\\\images0.tfrecords', 'D:\\\\tfrecords_valid\\\\images1.tfrecords', 'D:\\\\tfrecords_valid\\\\images10.tfrecords', 'D:\\\\tfrecords_valid\\\\images11.tfrecords', 'D:\\\\tfrecords_valid\\\\images2.tfrecords', 'D:\\\\tfrecords_valid\\\\images3.tfrecords', 'D:\\\\tfrecords_valid\\\\images4.tfrecords', 'D:\\\\tfrecords_valid\\\\images5.tfrecords', 'D:\\\\tfrecords_valid\\\\images6.tfrecords', 'D:\\\\tfrecords_valid\\\\images7.tfrecords', 'D:\\\\tfrecords_valid\\\\images8.tfrecords', 'D:\\\\tfrecords_valid\\\\images9.tfrecords']\n",
      "<BatchDataset element_spec=(TensorSpec(shape=(None, None, None, None, None), dtype=tf.float32, name=None), TensorSpec(shape=(None, None, None, None, None), dtype=tf.float32, name=None))>\n",
      "<BatchDataset element_spec=(TensorSpec(shape=(None, None, None, None, None), dtype=tf.float32, name=None), TensorSpec(shape=(None, None, None, None, None), dtype=tf.float32, name=None))>\n"
     ]
    }
   ],
   "source": [
    "#datasets for tf\n",
    "from data_preprocessing_3d import get_dataset_large\n",
    "\n",
    "batch_size = 1\n",
    "dataset = get_dataset_large(\"D:\\\\tfrecords_train\")\n",
    "\n",
    "for sample in dataset.take(1):\n",
    "    print(sample[0].shape)\n",
    "    print(sample[1].shape)\n",
    "\n",
    "dataset = dataset.repeat(101).batch(batch_size)\n",
    "valid_dataset = get_dataset_large(\"D:\\\\tfrecords_valid\")\n",
    "valid_dataset = valid_dataset.repeat(100).batch(batch_size)#.shuffle(1000,  reshuffle_each_iteration=True)\n",
    "\n",
    "\n",
    "print(dataset)\n",
    "print(valid_dataset)"
   ]
  },
  {
   "cell_type": "code",
   "execution_count": 25,
   "metadata": {},
   "outputs": [],
   "source": [
    "# Network set-up\n",
    "from utils import models\n",
    "\n",
    "model = models.model_call(model_name=\"3DUNET\",pxz=32,px=256,features=4)"
   ]
  },
  {
   "cell_type": "code",
   "execution_count": 26,
   "metadata": {},
   "outputs": [
    {
     "name": "stdout",
     "output_type": "stream",
     "text": [
      "Model: \"model_2\"\n",
      "__________________________________________________________________________________________________\n",
      " Layer (type)                   Output Shape                    Param #     Connected to          \n",
      "==================================================================================================\n",
      " input_3 (InputLayer)           [(None, 32, 256, 256, 1)]       0           []                    \n",
      "                                                                                                  \n",
      " conv3d_30 (Conv3D)             (None, 32, 256, 256, 4)         112         ['input_3[0][0]']     \n",
      "                                                                                                  \n",
      " batch_normalization_24 (BatchN  (None, 32, 256, 256, 4)        16          ['conv3d_30[0][0]']   \n",
      " ormalization)                                                                                    \n",
      "                                                                                                  \n",
      " conv3d_31 (Conv3D)             (None, 32, 256, 256, 8)         296         ['batch_normalization_\n",
      "                                                                            24[0][0]']            \n",
      "                                                                                                  \n",
      " max_pooling3d_6 (MaxPooling3D)  (None, 16, 128, 128, 8)        0           ['conv3d_31[0][0]']   \n",
      "                                                                                                  \n",
      " batch_normalization_25 (BatchN  (None, 16, 128, 128, 8)        32          ['max_pooling3d_6[0][0\n",
      " ormalization)                                                              ]']                   \n",
      "                                                                                                  \n",
      " dropout_12 (Dropout)           (None, 16, 128, 128, 8)         0           ['batch_normalization_\n",
      "                                                                            25[0][0]']            \n",
      "                                                                                                  \n",
      " conv3d_32 (Conv3D)             (None, 16, 128, 128, 8)         1736        ['dropout_12[0][0]']  \n",
      "                                                                                                  \n",
      " batch_normalization_26 (BatchN  (None, 16, 128, 128, 8)        32          ['conv3d_32[0][0]']   \n",
      " ormalization)                                                                                    \n",
      "                                                                                                  \n",
      " conv3d_33 (Conv3D)             (None, 16, 128, 128, 16)        3472        ['batch_normalization_\n",
      "                                                                            26[0][0]']            \n",
      "                                                                                                  \n",
      " max_pooling3d_7 (MaxPooling3D)  (None, 8, 64, 64, 16)          0           ['conv3d_33[0][0]']   \n",
      "                                                                                                  \n",
      " batch_normalization_27 (BatchN  (None, 8, 64, 64, 16)          64          ['max_pooling3d_7[0][0\n",
      " ormalization)                                                              ]']                   \n",
      "                                                                                                  \n",
      " dropout_13 (Dropout)           (None, 8, 64, 64, 16)           0           ['batch_normalization_\n",
      "                                                                            27[0][0]']            \n",
      "                                                                                                  \n",
      " conv3d_34 (Conv3D)             (None, 8, 64, 64, 16)           6928        ['dropout_13[0][0]']  \n",
      "                                                                                                  \n",
      " batch_normalization_28 (BatchN  (None, 8, 64, 64, 16)          64          ['conv3d_34[0][0]']   \n",
      " ormalization)                                                                                    \n",
      "                                                                                                  \n",
      " conv3d_35 (Conv3D)             (None, 8, 64, 64, 32)           13856       ['batch_normalization_\n",
      "                                                                            28[0][0]']            \n",
      "                                                                                                  \n",
      " max_pooling3d_8 (MaxPooling3D)  (None, 4, 32, 32, 32)          0           ['conv3d_35[0][0]']   \n",
      "                                                                                                  \n",
      " batch_normalization_29 (BatchN  (None, 4, 32, 32, 32)          128         ['max_pooling3d_8[0][0\n",
      " ormalization)                                                              ]']                   \n",
      "                                                                                                  \n",
      " dropout_14 (Dropout)           (None, 4, 32, 32, 32)           0           ['batch_normalization_\n",
      "                                                                            29[0][0]']            \n",
      "                                                                                                  \n",
      " conv3d_36 (Conv3D)             (None, 4, 32, 32, 32)           27680       ['dropout_14[0][0]']  \n",
      "                                                                                                  \n",
      " batch_normalization_30 (BatchN  (None, 4, 32, 32, 32)          128         ['conv3d_36[0][0]']   \n",
      " ormalization)                                                                                    \n",
      "                                                                                                  \n",
      " conv3d_37 (Conv3D)             (None, 4, 32, 32, 64)           55360       ['batch_normalization_\n",
      "                                                                            30[0][0]']            \n",
      "                                                                                                  \n",
      " conv3d_transpose_6 (Conv3DTran  (None, 8, 64, 64, 64)          110656      ['conv3d_37[0][0]']   \n",
      " spose)                                                                                           \n",
      "                                                                                                  \n",
      " concatenate_6 (Concatenate)    (None, 8, 64, 64, 96)           0           ['conv3d_transpose_6[0\n",
      "                                                                            ][0]',                \n",
      "                                                                             'conv3d_35[0][0]']   \n",
      "                                                                                                  \n",
      " dropout_15 (Dropout)           (None, 8, 64, 64, 96)           0           ['concatenate_6[0][0]'\n",
      "                                                                            ]                     \n",
      "                                                                                                  \n",
      " conv3d_38 (Conv3D)             (None, 8, 64, 64, 32)           82976       ['dropout_15[0][0]']  \n",
      "                                                                                                  \n",
      " batch_normalization_31 (BatchN  (None, 8, 64, 64, 32)          128         ['conv3d_38[0][0]']   \n",
      " ormalization)                                                                                    \n",
      "                                                                                                  \n",
      " conv3d_39 (Conv3D)             (None, 8, 64, 64, 32)           27680       ['batch_normalization_\n",
      "                                                                            31[0][0]']            \n",
      "                                                                                                  \n",
      " conv3d_transpose_7 (Conv3DTran  (None, 16, 128, 128, 32)       27680       ['conv3d_39[0][0]']   \n",
      " spose)                                                                                           \n",
      "                                                                                                  \n",
      " concatenate_7 (Concatenate)    (None, 16, 128, 128, 48)        0           ['conv3d_transpose_7[0\n",
      "                                                                            ][0]',                \n",
      "                                                                             'conv3d_33[0][0]']   \n",
      "                                                                                                  \n",
      " dropout_16 (Dropout)           (None, 16, 128, 128, 48)        0           ['concatenate_7[0][0]'\n",
      "                                                                            ]                     \n",
      "                                                                                                  \n",
      " conv3d_40 (Conv3D)             (None, 16, 128, 128, 16)        20752       ['dropout_16[0][0]']  \n",
      "                                                                                                  \n",
      " batch_normalization_33 (BatchN  (None, 16, 128, 128, 16)       64          ['conv3d_40[0][0]']   \n",
      " ormalization)                                                                                    \n",
      "                                                                                                  \n",
      " conv3d_41 (Conv3D)             (None, 16, 128, 128, 16)        6928        ['batch_normalization_\n",
      "                                                                            33[0][0]']            \n",
      "                                                                                                  \n",
      " batch_normalization_34 (BatchN  (None, 16, 128, 128, 16)       64          ['conv3d_41[0][0]']   \n",
      " ormalization)                                                                                    \n",
      "                                                                                                  \n",
      " conv3d_transpose_8 (Conv3DTran  (None, 32, 256, 256, 16)       6928        ['batch_normalization_\n",
      " spose)                                                                     34[0][0]']            \n",
      "                                                                                                  \n",
      " concatenate_8 (Concatenate)    (None, 32, 256, 256, 24)        0           ['conv3d_transpose_8[0\n",
      "                                                                            ][0]',                \n",
      "                                                                             'conv3d_31[0][0]']   \n",
      "                                                                                                  \n",
      " dropout_17 (Dropout)           (None, 32, 256, 256, 24)        0           ['concatenate_8[0][0]'\n",
      "                                                                            ]                     \n",
      "                                                                                                  \n",
      " conv3d_42 (Conv3D)             (None, 32, 256, 256, 8)         5192        ['dropout_17[0][0]']  \n",
      "                                                                                                  \n",
      " batch_normalization_35 (BatchN  (None, 32, 256, 256, 8)        32          ['conv3d_42[0][0]']   \n",
      " ormalization)                                                                                    \n",
      "                                                                                                  \n",
      " conv3d_43 (Conv3D)             (None, 32, 256, 256, 8)         1736        ['batch_normalization_\n",
      "                                                                            35[0][0]']            \n",
      "                                                                                                  \n",
      " conv3d_44 (Conv3D)             (None, 32, 256, 256, 2)         18          ['conv3d_43[0][0]']   \n",
      "                                                                                                  \n",
      "==================================================================================================\n",
      "Total params: 400,738\n",
      "Trainable params: 400,362\n",
      "Non-trainable params: 376\n",
      "__________________________________________________________________________________________________\n"
     ]
    }
   ],
   "source": [
    "# Metrics and training\n",
    " \n",
    "adam = tf.keras.optimizers.Adam(\n",
    "    learning_rate=0.00001, beta_1=0.9, beta_2=0.999, epsilon=1e-07, amsgrad=False,\n",
    "    name='Adam')\n",
    "precision_all = tf.keras.metrics.Precision(\n",
    "    thresholds=0.5)\n",
    "precision = tf.keras.metrics.Precision(\n",
    "    thresholds=0.5, class_id=1)\n",
    "recall = tf.keras.metrics.Recall(\n",
    "    thresholds=0.5, class_id=1)\n",
    "\n",
    "model.compile(loss=\"categorical_crossentropy\", optimizer=adam, metrics=[precision_all,precision,recall])\n",
    "model.summary(positions=[.33, .66, .78, 1.])"
   ]
  },
  {
   "cell_type": "code",
   "execution_count": 27,
   "metadata": {},
   "outputs": [
    {
     "name": "stdout",
     "output_type": "stream",
     "text": [
      "Epoch 1/60\n",
      "669/750 [=========================>....] - ETA: 11s - loss: 0.0355 - precision_4: 0.9315 - precision_5: 0.0537 - recall_2: 0.2037"
     ]
    },
    {
     "ename": "DataLossError",
     "evalue": "Graph execution error:\n\nDetected at node 'IteratorGetNext' defined at (most recent call last):\n    File \"c:\\Users\\kaczm\\.conda\\envs\\tf2.8\\lib\\runpy.py\", line 196, in _run_module_as_main\n      return _run_code(code, main_globals, None,\n    File \"c:\\Users\\kaczm\\.conda\\envs\\tf2.8\\lib\\runpy.py\", line 86, in _run_code\n      exec(code, run_globals)\n    File \"c:\\Users\\kaczm\\.conda\\envs\\tf2.8\\lib\\site-packages\\ipykernel_launcher.py\", line 17, in <module>\n      app.launch_new_instance()\n    File \"c:\\Users\\kaczm\\.conda\\envs\\tf2.8\\lib\\site-packages\\traitlets\\config\\application.py\", line 992, in launch_instance\n      app.start()\n    File \"c:\\Users\\kaczm\\.conda\\envs\\tf2.8\\lib\\site-packages\\ipykernel\\kernelapp.py\", line 711, in start\n      self.io_loop.start()\n    File \"c:\\Users\\kaczm\\.conda\\envs\\tf2.8\\lib\\site-packages\\tornado\\platform\\asyncio.py\", line 215, in start\n      self.asyncio_loop.run_forever()\n    File \"c:\\Users\\kaczm\\.conda\\envs\\tf2.8\\lib\\asyncio\\base_events.py\", line 595, in run_forever\n      self._run_once()\n    File \"c:\\Users\\kaczm\\.conda\\envs\\tf2.8\\lib\\asyncio\\base_events.py\", line 1881, in _run_once\n      handle._run()\n    File \"c:\\Users\\kaczm\\.conda\\envs\\tf2.8\\lib\\asyncio\\events.py\", line 80, in _run\n      self._context.run(self._callback, *self._args)\n    File \"c:\\Users\\kaczm\\.conda\\envs\\tf2.8\\lib\\site-packages\\ipykernel\\kernelbase.py\", line 510, in dispatch_queue\n      await self.process_one()\n    File \"c:\\Users\\kaczm\\.conda\\envs\\tf2.8\\lib\\site-packages\\ipykernel\\kernelbase.py\", line 499, in process_one\n      await dispatch(*args)\n    File \"c:\\Users\\kaczm\\.conda\\envs\\tf2.8\\lib\\site-packages\\ipykernel\\kernelbase.py\", line 406, in dispatch_shell\n      await result\n    File \"c:\\Users\\kaczm\\.conda\\envs\\tf2.8\\lib\\site-packages\\ipykernel\\kernelbase.py\", line 729, in execute_request\n      reply_content = await reply_content\n    File \"c:\\Users\\kaczm\\.conda\\envs\\tf2.8\\lib\\site-packages\\ipykernel\\ipkernel.py\", line 411, in do_execute\n      res = shell.run_cell(\n    File \"c:\\Users\\kaczm\\.conda\\envs\\tf2.8\\lib\\site-packages\\ipykernel\\zmqshell.py\", line 531, in run_cell\n      return super().run_cell(*args, **kwargs)\n    File \"c:\\Users\\kaczm\\.conda\\envs\\tf2.8\\lib\\site-packages\\IPython\\core\\interactiveshell.py\", line 2940, in run_cell\n      result = self._run_cell(\n    File \"c:\\Users\\kaczm\\.conda\\envs\\tf2.8\\lib\\site-packages\\IPython\\core\\interactiveshell.py\", line 2995, in _run_cell\n      return runner(coro)\n    File \"c:\\Users\\kaczm\\.conda\\envs\\tf2.8\\lib\\site-packages\\IPython\\core\\async_helpers.py\", line 129, in _pseudo_sync_runner\n      coro.send(None)\n    File \"c:\\Users\\kaczm\\.conda\\envs\\tf2.8\\lib\\site-packages\\IPython\\core\\interactiveshell.py\", line 3194, in run_cell_async\n      has_raised = await self.run_ast_nodes(code_ast.body, cell_name,\n    File \"c:\\Users\\kaczm\\.conda\\envs\\tf2.8\\lib\\site-packages\\IPython\\core\\interactiveshell.py\", line 3373, in run_ast_nodes\n      if await self.run_code(code, result, async_=asy):\n    File \"c:\\Users\\kaczm\\.conda\\envs\\tf2.8\\lib\\site-packages\\IPython\\core\\interactiveshell.py\", line 3433, in run_code\n      exec(code_obj, self.user_global_ns, self.user_ns)\n    File \"C:\\Users\\kaczm\\AppData\\Local\\Temp\\ipykernel_2024\\1594094489.py\", line 34, in <module>\n      history = model.fit(\n    File \"c:\\Users\\kaczm\\.conda\\envs\\tf2.8\\lib\\site-packages\\keras\\utils\\traceback_utils.py\", line 64, in error_handler\n      return fn(*args, **kwargs)\n    File \"c:\\Users\\kaczm\\.conda\\envs\\tf2.8\\lib\\site-packages\\keras\\engine\\training.py\", line 1384, in fit\n      tmp_logs = self.train_function(iterator)\n    File \"c:\\Users\\kaczm\\.conda\\envs\\tf2.8\\lib\\site-packages\\keras\\engine\\training.py\", line 1021, in train_function\n      return step_function(self, iterator)\n    File \"c:\\Users\\kaczm\\.conda\\envs\\tf2.8\\lib\\site-packages\\keras\\engine\\training.py\", line 1009, in step_function\n      data = next(iterator)\nNode: 'IteratorGetNext'\nDetected at node 'IteratorGetNext' defined at (most recent call last):\n    File \"c:\\Users\\kaczm\\.conda\\envs\\tf2.8\\lib\\runpy.py\", line 196, in _run_module_as_main\n      return _run_code(code, main_globals, None,\n    File \"c:\\Users\\kaczm\\.conda\\envs\\tf2.8\\lib\\runpy.py\", line 86, in _run_code\n      exec(code, run_globals)\n    File \"c:\\Users\\kaczm\\.conda\\envs\\tf2.8\\lib\\site-packages\\ipykernel_launcher.py\", line 17, in <module>\n      app.launch_new_instance()\n    File \"c:\\Users\\kaczm\\.conda\\envs\\tf2.8\\lib\\site-packages\\traitlets\\config\\application.py\", line 992, in launch_instance\n      app.start()\n    File \"c:\\Users\\kaczm\\.conda\\envs\\tf2.8\\lib\\site-packages\\ipykernel\\kernelapp.py\", line 711, in start\n      self.io_loop.start()\n    File \"c:\\Users\\kaczm\\.conda\\envs\\tf2.8\\lib\\site-packages\\tornado\\platform\\asyncio.py\", line 215, in start\n      self.asyncio_loop.run_forever()\n    File \"c:\\Users\\kaczm\\.conda\\envs\\tf2.8\\lib\\asyncio\\base_events.py\", line 595, in run_forever\n      self._run_once()\n    File \"c:\\Users\\kaczm\\.conda\\envs\\tf2.8\\lib\\asyncio\\base_events.py\", line 1881, in _run_once\n      handle._run()\n    File \"c:\\Users\\kaczm\\.conda\\envs\\tf2.8\\lib\\asyncio\\events.py\", line 80, in _run\n      self._context.run(self._callback, *self._args)\n    File \"c:\\Users\\kaczm\\.conda\\envs\\tf2.8\\lib\\site-packages\\ipykernel\\kernelbase.py\", line 510, in dispatch_queue\n      await self.process_one()\n    File \"c:\\Users\\kaczm\\.conda\\envs\\tf2.8\\lib\\site-packages\\ipykernel\\kernelbase.py\", line 499, in process_one\n      await dispatch(*args)\n    File \"c:\\Users\\kaczm\\.conda\\envs\\tf2.8\\lib\\site-packages\\ipykernel\\kernelbase.py\", line 406, in dispatch_shell\n      await result\n    File \"c:\\Users\\kaczm\\.conda\\envs\\tf2.8\\lib\\site-packages\\ipykernel\\kernelbase.py\", line 729, in execute_request\n      reply_content = await reply_content\n    File \"c:\\Users\\kaczm\\.conda\\envs\\tf2.8\\lib\\site-packages\\ipykernel\\ipkernel.py\", line 411, in do_execute\n      res = shell.run_cell(\n    File \"c:\\Users\\kaczm\\.conda\\envs\\tf2.8\\lib\\site-packages\\ipykernel\\zmqshell.py\", line 531, in run_cell\n      return super().run_cell(*args, **kwargs)\n    File \"c:\\Users\\kaczm\\.conda\\envs\\tf2.8\\lib\\site-packages\\IPython\\core\\interactiveshell.py\", line 2940, in run_cell\n      result = self._run_cell(\n    File \"c:\\Users\\kaczm\\.conda\\envs\\tf2.8\\lib\\site-packages\\IPython\\core\\interactiveshell.py\", line 2995, in _run_cell\n      return runner(coro)\n    File \"c:\\Users\\kaczm\\.conda\\envs\\tf2.8\\lib\\site-packages\\IPython\\core\\async_helpers.py\", line 129, in _pseudo_sync_runner\n      coro.send(None)\n    File \"c:\\Users\\kaczm\\.conda\\envs\\tf2.8\\lib\\site-packages\\IPython\\core\\interactiveshell.py\", line 3194, in run_cell_async\n      has_raised = await self.run_ast_nodes(code_ast.body, cell_name,\n    File \"c:\\Users\\kaczm\\.conda\\envs\\tf2.8\\lib\\site-packages\\IPython\\core\\interactiveshell.py\", line 3373, in run_ast_nodes\n      if await self.run_code(code, result, async_=asy):\n    File \"c:\\Users\\kaczm\\.conda\\envs\\tf2.8\\lib\\site-packages\\IPython\\core\\interactiveshell.py\", line 3433, in run_code\n      exec(code_obj, self.user_global_ns, self.user_ns)\n    File \"C:\\Users\\kaczm\\AppData\\Local\\Temp\\ipykernel_2024\\1594094489.py\", line 34, in <module>\n      history = model.fit(\n    File \"c:\\Users\\kaczm\\.conda\\envs\\tf2.8\\lib\\site-packages\\keras\\utils\\traceback_utils.py\", line 64, in error_handler\n      return fn(*args, **kwargs)\n    File \"c:\\Users\\kaczm\\.conda\\envs\\tf2.8\\lib\\site-packages\\keras\\engine\\training.py\", line 1384, in fit\n      tmp_logs = self.train_function(iterator)\n    File \"c:\\Users\\kaczm\\.conda\\envs\\tf2.8\\lib\\site-packages\\keras\\engine\\training.py\", line 1021, in train_function\n      return step_function(self, iterator)\n    File \"c:\\Users\\kaczm\\.conda\\envs\\tf2.8\\lib\\site-packages\\keras\\engine\\training.py\", line 1009, in step_function\n      data = next(iterator)\nNode: 'IteratorGetNext'\n2 root error(s) found.\n  (0) DATA_LOSS:  corrupted record at 478154506\n\t [[{{node IteratorGetNext}}]]\n\t [[IteratorGetNext/_4]]\n  (1) DATA_LOSS:  corrupted record at 478154506\n\t [[{{node IteratorGetNext}}]]\n0 successful operations.\n0 derived errors ignored. [Op:__inference_train_function_43967]",
     "output_type": "error",
     "traceback": [
      "\u001b[1;31m---------------------------------------------------------------------------\u001b[0m",
      "\u001b[1;31mDataLossError\u001b[0m                             Traceback (most recent call last)",
      "Cell \u001b[1;32mIn[27], line 34\u001b[0m\n\u001b[0;32m     27\u001b[0m steps_per_epoch \u001b[39m=\u001b[39m (\n\u001b[0;32m     28\u001b[0m     counter_train \u001b[39m/\u001b[39m batch_size\n\u001b[0;32m     29\u001b[0m ) \n\u001b[0;32m     32\u001b[0m validations_steps \u001b[39m=\u001b[39m counter_valid \u001b[39m/\u001b[39m batch_size\n\u001b[1;32m---> 34\u001b[0m history \u001b[39m=\u001b[39m model\u001b[39m.\u001b[39;49mfit(\n\u001b[0;32m     35\u001b[0m     dataset,\n\u001b[0;32m     36\u001b[0m     validation_data\u001b[39m=\u001b[39;49mvalid_dataset,\n\u001b[0;32m     37\u001b[0m     callbacks\u001b[39m=\u001b[39;49mcallbacks,\n\u001b[0;32m     38\u001b[0m     initial_epoch\u001b[39m=\u001b[39;49m\u001b[39m0\u001b[39;49m,\n\u001b[0;32m     39\u001b[0m     epochs\u001b[39m=\u001b[39;49mepochs,steps_per_epoch \u001b[39m=\u001b[39;49m \u001b[39m30\u001b[39;49m\u001b[39m*\u001b[39;49m\u001b[39m25\u001b[39;49m,\n\u001b[0;32m     40\u001b[0m     validation_steps\u001b[39m=\u001b[39;49m\u001b[39m11\u001b[39;49m\u001b[39m*\u001b[39;49m\u001b[39m25\u001b[39;49m,\n\u001b[0;32m     41\u001b[0m )\n",
      "File \u001b[1;32mc:\\Users\\kaczm\\.conda\\envs\\tf2.8\\lib\\site-packages\\keras\\utils\\traceback_utils.py:67\u001b[0m, in \u001b[0;36mfilter_traceback.<locals>.error_handler\u001b[1;34m(*args, **kwargs)\u001b[0m\n\u001b[0;32m     65\u001b[0m \u001b[39mexcept\u001b[39;00m \u001b[39mException\u001b[39;00m \u001b[39mas\u001b[39;00m e:  \u001b[39m# pylint: disable=broad-except\u001b[39;00m\n\u001b[0;32m     66\u001b[0m   filtered_tb \u001b[39m=\u001b[39m _process_traceback_frames(e\u001b[39m.\u001b[39m__traceback__)\n\u001b[1;32m---> 67\u001b[0m   \u001b[39mraise\u001b[39;00m e\u001b[39m.\u001b[39mwith_traceback(filtered_tb) \u001b[39mfrom\u001b[39;00m \u001b[39mNone\u001b[39m\n\u001b[0;32m     68\u001b[0m \u001b[39mfinally\u001b[39;00m:\n\u001b[0;32m     69\u001b[0m   \u001b[39mdel\u001b[39;00m filtered_tb\n",
      "File \u001b[1;32mc:\\Users\\kaczm\\.conda\\envs\\tf2.8\\lib\\site-packages\\tensorflow\\python\\eager\\execute.py:54\u001b[0m, in \u001b[0;36mquick_execute\u001b[1;34m(op_name, num_outputs, inputs, attrs, ctx, name)\u001b[0m\n\u001b[0;32m     52\u001b[0m \u001b[39mtry\u001b[39;00m:\n\u001b[0;32m     53\u001b[0m   ctx\u001b[39m.\u001b[39mensure_initialized()\n\u001b[1;32m---> 54\u001b[0m   tensors \u001b[39m=\u001b[39m pywrap_tfe\u001b[39m.\u001b[39mTFE_Py_Execute(ctx\u001b[39m.\u001b[39m_handle, device_name, op_name,\n\u001b[0;32m     55\u001b[0m                                       inputs, attrs, num_outputs)\n\u001b[0;32m     56\u001b[0m \u001b[39mexcept\u001b[39;00m core\u001b[39m.\u001b[39m_NotOkStatusException \u001b[39mas\u001b[39;00m e:\n\u001b[0;32m     57\u001b[0m   \u001b[39mif\u001b[39;00m name \u001b[39mis\u001b[39;00m \u001b[39mnot\u001b[39;00m \u001b[39mNone\u001b[39;00m:\n",
      "\u001b[1;31mDataLossError\u001b[0m: Graph execution error:\n\nDetected at node 'IteratorGetNext' defined at (most recent call last):\n    File \"c:\\Users\\kaczm\\.conda\\envs\\tf2.8\\lib\\runpy.py\", line 196, in _run_module_as_main\n      return _run_code(code, main_globals, None,\n    File \"c:\\Users\\kaczm\\.conda\\envs\\tf2.8\\lib\\runpy.py\", line 86, in _run_code\n      exec(code, run_globals)\n    File \"c:\\Users\\kaczm\\.conda\\envs\\tf2.8\\lib\\site-packages\\ipykernel_launcher.py\", line 17, in <module>\n      app.launch_new_instance()\n    File \"c:\\Users\\kaczm\\.conda\\envs\\tf2.8\\lib\\site-packages\\traitlets\\config\\application.py\", line 992, in launch_instance\n      app.start()\n    File \"c:\\Users\\kaczm\\.conda\\envs\\tf2.8\\lib\\site-packages\\ipykernel\\kernelapp.py\", line 711, in start\n      self.io_loop.start()\n    File \"c:\\Users\\kaczm\\.conda\\envs\\tf2.8\\lib\\site-packages\\tornado\\platform\\asyncio.py\", line 215, in start\n      self.asyncio_loop.run_forever()\n    File \"c:\\Users\\kaczm\\.conda\\envs\\tf2.8\\lib\\asyncio\\base_events.py\", line 595, in run_forever\n      self._run_once()\n    File \"c:\\Users\\kaczm\\.conda\\envs\\tf2.8\\lib\\asyncio\\base_events.py\", line 1881, in _run_once\n      handle._run()\n    File \"c:\\Users\\kaczm\\.conda\\envs\\tf2.8\\lib\\asyncio\\events.py\", line 80, in _run\n      self._context.run(self._callback, *self._args)\n    File \"c:\\Users\\kaczm\\.conda\\envs\\tf2.8\\lib\\site-packages\\ipykernel\\kernelbase.py\", line 510, in dispatch_queue\n      await self.process_one()\n    File \"c:\\Users\\kaczm\\.conda\\envs\\tf2.8\\lib\\site-packages\\ipykernel\\kernelbase.py\", line 499, in process_one\n      await dispatch(*args)\n    File \"c:\\Users\\kaczm\\.conda\\envs\\tf2.8\\lib\\site-packages\\ipykernel\\kernelbase.py\", line 406, in dispatch_shell\n      await result\n    File \"c:\\Users\\kaczm\\.conda\\envs\\tf2.8\\lib\\site-packages\\ipykernel\\kernelbase.py\", line 729, in execute_request\n      reply_content = await reply_content\n    File \"c:\\Users\\kaczm\\.conda\\envs\\tf2.8\\lib\\site-packages\\ipykernel\\ipkernel.py\", line 411, in do_execute\n      res = shell.run_cell(\n    File \"c:\\Users\\kaczm\\.conda\\envs\\tf2.8\\lib\\site-packages\\ipykernel\\zmqshell.py\", line 531, in run_cell\n      return super().run_cell(*args, **kwargs)\n    File \"c:\\Users\\kaczm\\.conda\\envs\\tf2.8\\lib\\site-packages\\IPython\\core\\interactiveshell.py\", line 2940, in run_cell\n      result = self._run_cell(\n    File \"c:\\Users\\kaczm\\.conda\\envs\\tf2.8\\lib\\site-packages\\IPython\\core\\interactiveshell.py\", line 2995, in _run_cell\n      return runner(coro)\n    File \"c:\\Users\\kaczm\\.conda\\envs\\tf2.8\\lib\\site-packages\\IPython\\core\\async_helpers.py\", line 129, in _pseudo_sync_runner\n      coro.send(None)\n    File \"c:\\Users\\kaczm\\.conda\\envs\\tf2.8\\lib\\site-packages\\IPython\\core\\interactiveshell.py\", line 3194, in run_cell_async\n      has_raised = await self.run_ast_nodes(code_ast.body, cell_name,\n    File \"c:\\Users\\kaczm\\.conda\\envs\\tf2.8\\lib\\site-packages\\IPython\\core\\interactiveshell.py\", line 3373, in run_ast_nodes\n      if await self.run_code(code, result, async_=asy):\n    File \"c:\\Users\\kaczm\\.conda\\envs\\tf2.8\\lib\\site-packages\\IPython\\core\\interactiveshell.py\", line 3433, in run_code\n      exec(code_obj, self.user_global_ns, self.user_ns)\n    File \"C:\\Users\\kaczm\\AppData\\Local\\Temp\\ipykernel_2024\\1594094489.py\", line 34, in <module>\n      history = model.fit(\n    File \"c:\\Users\\kaczm\\.conda\\envs\\tf2.8\\lib\\site-packages\\keras\\utils\\traceback_utils.py\", line 64, in error_handler\n      return fn(*args, **kwargs)\n    File \"c:\\Users\\kaczm\\.conda\\envs\\tf2.8\\lib\\site-packages\\keras\\engine\\training.py\", line 1384, in fit\n      tmp_logs = self.train_function(iterator)\n    File \"c:\\Users\\kaczm\\.conda\\envs\\tf2.8\\lib\\site-packages\\keras\\engine\\training.py\", line 1021, in train_function\n      return step_function(self, iterator)\n    File \"c:\\Users\\kaczm\\.conda\\envs\\tf2.8\\lib\\site-packages\\keras\\engine\\training.py\", line 1009, in step_function\n      data = next(iterator)\nNode: 'IteratorGetNext'\nDetected at node 'IteratorGetNext' defined at (most recent call last):\n    File \"c:\\Users\\kaczm\\.conda\\envs\\tf2.8\\lib\\runpy.py\", line 196, in _run_module_as_main\n      return _run_code(code, main_globals, None,\n    File \"c:\\Users\\kaczm\\.conda\\envs\\tf2.8\\lib\\runpy.py\", line 86, in _run_code\n      exec(code, run_globals)\n    File \"c:\\Users\\kaczm\\.conda\\envs\\tf2.8\\lib\\site-packages\\ipykernel_launcher.py\", line 17, in <module>\n      app.launch_new_instance()\n    File \"c:\\Users\\kaczm\\.conda\\envs\\tf2.8\\lib\\site-packages\\traitlets\\config\\application.py\", line 992, in launch_instance\n      app.start()\n    File \"c:\\Users\\kaczm\\.conda\\envs\\tf2.8\\lib\\site-packages\\ipykernel\\kernelapp.py\", line 711, in start\n      self.io_loop.start()\n    File \"c:\\Users\\kaczm\\.conda\\envs\\tf2.8\\lib\\site-packages\\tornado\\platform\\asyncio.py\", line 215, in start\n      self.asyncio_loop.run_forever()\n    File \"c:\\Users\\kaczm\\.conda\\envs\\tf2.8\\lib\\asyncio\\base_events.py\", line 595, in run_forever\n      self._run_once()\n    File \"c:\\Users\\kaczm\\.conda\\envs\\tf2.8\\lib\\asyncio\\base_events.py\", line 1881, in _run_once\n      handle._run()\n    File \"c:\\Users\\kaczm\\.conda\\envs\\tf2.8\\lib\\asyncio\\events.py\", line 80, in _run\n      self._context.run(self._callback, *self._args)\n    File \"c:\\Users\\kaczm\\.conda\\envs\\tf2.8\\lib\\site-packages\\ipykernel\\kernelbase.py\", line 510, in dispatch_queue\n      await self.process_one()\n    File \"c:\\Users\\kaczm\\.conda\\envs\\tf2.8\\lib\\site-packages\\ipykernel\\kernelbase.py\", line 499, in process_one\n      await dispatch(*args)\n    File \"c:\\Users\\kaczm\\.conda\\envs\\tf2.8\\lib\\site-packages\\ipykernel\\kernelbase.py\", line 406, in dispatch_shell\n      await result\n    File \"c:\\Users\\kaczm\\.conda\\envs\\tf2.8\\lib\\site-packages\\ipykernel\\kernelbase.py\", line 729, in execute_request\n      reply_content = await reply_content\n    File \"c:\\Users\\kaczm\\.conda\\envs\\tf2.8\\lib\\site-packages\\ipykernel\\ipkernel.py\", line 411, in do_execute\n      res = shell.run_cell(\n    File \"c:\\Users\\kaczm\\.conda\\envs\\tf2.8\\lib\\site-packages\\ipykernel\\zmqshell.py\", line 531, in run_cell\n      return super().run_cell(*args, **kwargs)\n    File \"c:\\Users\\kaczm\\.conda\\envs\\tf2.8\\lib\\site-packages\\IPython\\core\\interactiveshell.py\", line 2940, in run_cell\n      result = self._run_cell(\n    File \"c:\\Users\\kaczm\\.conda\\envs\\tf2.8\\lib\\site-packages\\IPython\\core\\interactiveshell.py\", line 2995, in _run_cell\n      return runner(coro)\n    File \"c:\\Users\\kaczm\\.conda\\envs\\tf2.8\\lib\\site-packages\\IPython\\core\\async_helpers.py\", line 129, in _pseudo_sync_runner\n      coro.send(None)\n    File \"c:\\Users\\kaczm\\.conda\\envs\\tf2.8\\lib\\site-packages\\IPython\\core\\interactiveshell.py\", line 3194, in run_cell_async\n      has_raised = await self.run_ast_nodes(code_ast.body, cell_name,\n    File \"c:\\Users\\kaczm\\.conda\\envs\\tf2.8\\lib\\site-packages\\IPython\\core\\interactiveshell.py\", line 3373, in run_ast_nodes\n      if await self.run_code(code, result, async_=asy):\n    File \"c:\\Users\\kaczm\\.conda\\envs\\tf2.8\\lib\\site-packages\\IPython\\core\\interactiveshell.py\", line 3433, in run_code\n      exec(code_obj, self.user_global_ns, self.user_ns)\n    File \"C:\\Users\\kaczm\\AppData\\Local\\Temp\\ipykernel_2024\\1594094489.py\", line 34, in <module>\n      history = model.fit(\n    File \"c:\\Users\\kaczm\\.conda\\envs\\tf2.8\\lib\\site-packages\\keras\\utils\\traceback_utils.py\", line 64, in error_handler\n      return fn(*args, **kwargs)\n    File \"c:\\Users\\kaczm\\.conda\\envs\\tf2.8\\lib\\site-packages\\keras\\engine\\training.py\", line 1384, in fit\n      tmp_logs = self.train_function(iterator)\n    File \"c:\\Users\\kaczm\\.conda\\envs\\tf2.8\\lib\\site-packages\\keras\\engine\\training.py\", line 1021, in train_function\n      return step_function(self, iterator)\n    File \"c:\\Users\\kaczm\\.conda\\envs\\tf2.8\\lib\\site-packages\\keras\\engine\\training.py\", line 1009, in step_function\n      data = next(iterator)\nNode: 'IteratorGetNext'\n2 root error(s) found.\n  (0) DATA_LOSS:  corrupted record at 478154506\n\t [[{{node IteratorGetNext}}]]\n\t [[IteratorGetNext/_4]]\n  (1) DATA_LOSS:  corrupted record at 478154506\n\t [[{{node IteratorGetNext}}]]\n0 successful operations.\n0 derived errors ignored. [Op:__inference_train_function_43967]"
     ]
    },
    {
     "ename": "",
     "evalue": "",
     "output_type": "error",
     "traceback": [
      "\u001b[1;31mThe Kernel crashed while executing code in the the current cell or a previous cell. Please review the code in the cell(s) to identify a possible cause of the failure. Click <a href='https://aka.ms/vscodeJupyterKernelCrash'>here</a> for more info. View Jupyter <a href='command:jupyter.viewOutput'>log</a> for further details."
     ]
    }
   ],
   "source": [
    "# Results\n",
    "# reading checkpoint if needen\n",
    "#\n",
    "#################################\n",
    "\n",
    "from tensorflow.keras.callbacks import (\n",
    "    EarlyStopping,\n",
    "    ModelCheckpoint,\n",
    "    ReduceLROnPlateau,\n",
    "    TerminateOnNaN,\n",
    ")\n",
    "\n",
    "# training\n",
    "callbacks = [\n",
    "    # EarlyStopping(patience=10, verbose=1),\n",
    "    #ReduceLROnPlateau(factor=0.1, patience=10, min_lr=0.0000001, verbose=1),\n",
    "    tf.keras.callbacks.LearningRateScheduler(scheduler),\n",
    "    ModelCheckpoint(\n",
    "        \"models\\\\3DUNET_lession_16_32_512\\\\epoch-{epoch:02d}-valloss-{val_loss:.4f}-{val_precision_1:.2f}-{val_recall:.2f}.hdf5\",\n",
    "        verbose=1,\n",
    "        save_best_only=False,\n",
    "        save_weights_only=True,\n",
    "    ),\n",
    "    TerminateOnNaN(),\n",
    "]\n",
    "epochs = 60\n",
    "steps_per_epoch = (\n",
    "    counter_train / batch_size\n",
    ") \n",
    "\n",
    "\n",
    "validations_steps = counter_valid / batch_size\n",
    "\n",
    "history = model.fit(\n",
    "    dataset,\n",
    "    validation_data=valid_dataset,\n",
    "    callbacks=callbacks,\n",
    "    initial_epoch=0,\n",
    "    epochs=epochs,steps_per_epoch = 30*25,\n",
    "    validation_steps=11*25,\n",
    ")"
   ]
  },
  {
   "cell_type": "code",
   "execution_count": 8,
   "metadata": {},
   "outputs": [
    {
     "ename": "NameError",
     "evalue": "name 'history' is not defined",
     "output_type": "error",
     "traceback": [
      "\u001b[1;31m---------------------------------------------------------------------------\u001b[0m",
      "\u001b[1;31mNameError\u001b[0m                                 Traceback (most recent call last)",
      "Cell \u001b[1;32mIn[8], line 1\u001b[0m\n\u001b[1;32m----> 1\u001b[0m plt\u001b[39m.\u001b[39mplot(history\u001b[39m.\u001b[39mhistory[\u001b[39m'\u001b[39m\u001b[39mloss\u001b[39m\u001b[39m'\u001b[39m])\n\u001b[0;32m      2\u001b[0m plt\u001b[39m.\u001b[39mplot(history\u001b[39m.\u001b[39mhistory[\u001b[39m'\u001b[39m\u001b[39mval_loss\u001b[39m\u001b[39m'\u001b[39m])\n\u001b[0;32m      3\u001b[0m plt\u001b[39m.\u001b[39mtitle(\u001b[39m'\u001b[39m\u001b[39mmodel loss\u001b[39m\u001b[39m'\u001b[39m)\n",
      "\u001b[1;31mNameError\u001b[0m: name 'history' is not defined"
     ]
    }
   ],
   "source": [
    "\n",
    "\n",
    "plt.plot(history.history['loss'])\n",
    "plt.plot(history.history['val_loss'])\n",
    "plt.title('model loss')\n",
    "plt.ylabel('loss')\n",
    "plt.xlabel('epoch')\n",
    "plt.legend(['train', 'val'], loc='upper left')\n",
    "plt.show()\n",
    "\n",
    "np.save(\"2Dunet_history_lesion.npy\",np.array(history))\n",
    "\n"
   ]
  },
  {
   "cell_type": "code",
   "execution_count": null,
   "metadata": {},
   "outputs": [],
   "source": [
    "#a zrób testowy trening od modelu do wątroby :))) mnoże będzie lepiej!"
   ]
  },
  {
   "cell_type": "code",
   "execution_count": 12,
   "metadata": {},
   "outputs": [],
   "source": [
    "new_model = tf.keras.models.load_model(\"models\\\\2DUNET_lesion_16_256\\0.0023-0.43-0.76-epoch-74.hdf5\")\n",
    "\n",
    "\n",
    "n_max = 700\n",
    "n=0\n",
    "for x in loader_valid.data_generator_2d_lesion():\n",
    "   if n < 100:\n",
    "      pass\n",
    "   elif n < n_max:\n",
    "      plt.subplot(1,3,1)\n",
    "      plt.imshow(x[0])\n",
    "      plt.subplot(1,3,2)\n",
    "      preds = new_model.predict(tf.reshape(x[0],[1,256,256,1]))\n",
    "      plt.imshow(preds[0,:,:,1])\n",
    "      plt.subplot(1,3,3)\n",
    "      plt.imshow(x[1][:,:,1])\n",
    "      plt.show()\n",
    "   else:\n",
    "      break\n",
    "   n+=1"
   ]
  },
  {
   "cell_type": "code",
   "execution_count": null,
   "metadata": {},
   "outputs": [],
   "source": []
  }
 ],
 "metadata": {
  "kernelspec": {
   "display_name": "tf2.8",
   "language": "python",
   "name": "tf2.8"
  },
  "language_info": {
   "codemirror_mode": {
    "name": "ipython",
    "version": 3
   },
   "file_extension": ".py",
   "mimetype": "text/x-python",
   "name": "python",
   "nbconvert_exporter": "python",
   "pygments_lexer": "ipython3",
   "version": "3.10.0"
  },
  "orig_nbformat": 4,
  "vscode": {
   "interpreter": {
    "hash": "f9b479fa97f672ded16c3aa2c05a2af574f512ec55675434aaf269f9ffd0698c"
   }
  }
 },
 "nbformat": 4,
 "nbformat_minor": 2
}
