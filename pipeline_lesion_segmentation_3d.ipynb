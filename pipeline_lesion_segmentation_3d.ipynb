{
 "cells": [
  {
   "cell_type": "markdown",
   "metadata": {},
   "source": [
    "# 3DRDNN\n",
    "\n",
    "Main pipeline for research in my Master.\n",
    "\n",
    "## goals in this notebook\n",
    "\n",
    "Prepare the pipeline for any 3d DNN to train on CT data.\n",
    "1) data loader\n",
    "2) DNN\n",
    "3) Training\n",
    "4) Results comparison"
   ]
  },
  {
   "cell_type": "code",
   "execution_count": 1,
   "metadata": {},
   "outputs": [
    {
     "name": "stdout",
     "output_type": "stream",
     "text": [
      "TensorFlow Version: 2.8.0\n",
      "/device:GPU:0\n"
     ]
    }
   ],
   "source": [
    "# Testing reading GPU\n",
    "from distutils.version import LooseVersion\n",
    "import warnings\n",
    "import tensorflow as tf\n",
    "from matplotlib import pyplot as plt\n",
    "import numpy as np\n",
    "# Check TensorFlow Version\n",
    "print('TensorFlow Version: {}'.format(tf.__version__))\n",
    "\n",
    "# Check for a GPU\n",
    "if not tf.test.gpu_device_name():\n",
    "    warnings.warn('No GPU found. Please ensure you have installed TensorFlow correctly')\n",
    "else:\n",
    "    print(tf.test.gpu_device_name())"
   ]
  },
  {
   "cell_type": "code",
   "execution_count": 2,
   "metadata": {},
   "outputs": [
    {
     "name": "stdout",
     "output_type": "stream",
     "text": [
      "['C:\\\\Users\\\\kaczm\\\\programming\\\\3DRDNN\\\\data\\\\LITS_TFRecords\\\\aa\\\\images0.tfrecords']\n",
      "['C:\\\\Users\\\\kaczm\\\\programming\\\\3DRDNN\\\\data\\\\LITS_TFRecords\\\\bb\\\\images1.tfrecords']\n",
      "(4, 32, 64, 64, 1)\n",
      "(4, 32, 64, 64, 2)\n",
      "(4, 32, 64, 64, 1)\n",
      "(4, 32, 64, 64, 2)\n",
      "<BatchDataset element_spec=(TensorSpec(shape=(None, None, None, None, None), dtype=tf.float32, name=None), TensorSpec(shape=(None, None, None, None, None), dtype=tf.float32, name=None))>\n",
      "<BatchDataset element_spec=(TensorSpec(shape=(None, None, None, None, None), dtype=tf.float32, name=None), TensorSpec(shape=(None, None, None, None, None), dtype=tf.float32, name=None))>\n"
     ]
    }
   ],
   "source": [
    "# datasets for tf\n",
    "from data_preprocessing_3d import get_dataset_large\n",
    "\n",
    "batch_size = 4\n",
    "dataset = get_dataset_large(\n",
    "    r\"C:\\Users\\kaczm\\programming\\3DRDNN\\data\\LITS_TFRecords\\train\"\n",
    ")\n",
    "dataset = dataset.batch(batch_size)\n",
    "valid_dataset = get_dataset_large(\n",
    "    r\"C:\\Users\\kaczm\\programming\\3DRDNN\\data\\LITS_TFRecords\\valid\"\n",
    ")\n",
    "valid_dataset = valid_dataset.batch(\n",
    "    batch_size\n",
    ")  # .shuffle(1000,  reshuffle_each_iteration=True)\n",
    "\n",
    "for sample in dataset.take(1):\n",
    "    print(sample[0].shape)\n",
    "    print(sample[1].shape)\n",
    "\n",
    "for sample in valid_dataset.take(1):\n",
    "    print(sample[0].shape)\n",
    "    print(sample[1].shape)\n",
    "\n",
    "print(dataset)\n",
    "print(valid_dataset)"
   ]
  },
  {
   "cell_type": "code",
   "execution_count": 3,
   "metadata": {},
   "outputs": [],
   "source": [
    "### learning rate schedule\n",
    "\n",
    "def scheduler(epoch, lr):\n",
    "    if epoch < 2:\n",
    "        lr = 0.001\n",
    "        return lr\n",
    "    else:\n",
    "        return lr * tf.math.exp(-0.05)"
   ]
  },
  {
   "cell_type": "code",
   "execution_count": 4,
   "metadata": {},
   "outputs": [],
   "source": [
    "# Network set-up\n",
    "from utils import models\n",
    "\n",
    "model = models.model_call(model_name=\"3DUNET\",pxz=32,px=64,features=32)"
   ]
  },
  {
   "cell_type": "code",
   "execution_count": 5,
   "metadata": {},
   "outputs": [
    {
     "name": "stdout",
     "output_type": "stream",
     "text": [
      "Model: \"model\"\n",
      "__________________________________________________________________________________________________\n",
      " Layer (type)                   Output Shape                    Param #     Connected to          \n",
      "==================================================================================================\n",
      " input_1 (InputLayer)           [(None, 32, 64, 64, 1)]         0           []                    \n",
      "                                                                                                  \n",
      " conv3d (Conv3D)                (None, 32, 64, 64, 32)          896         ['input_1[0][0]']     \n",
      "                                                                                                  \n",
      " batch_normalization (BatchNorm  (None, 32, 64, 64, 32)         128         ['conv3d[0][0]']      \n",
      " alization)                                                                                       \n",
      "                                                                                                  \n",
      " conv3d_1 (Conv3D)              (None, 32, 64, 64, 64)          18496       ['batch_normalization[\n",
      "                                                                            0][0]']               \n",
      "                                                                                                  \n",
      " max_pooling3d (MaxPooling3D)   (None, 16, 32, 32, 64)          0           ['conv3d_1[0][0]']    \n",
      "                                                                                                  \n",
      " batch_normalization_1 (BatchNo  (None, 16, 32, 32, 64)         256         ['max_pooling3d[0][0]'\n",
      " rmalization)                                                               ]                     \n",
      "                                                                                                  \n",
      " dropout (Dropout)              (None, 16, 32, 32, 64)          0           ['batch_normalization_\n",
      "                                                                            1[0][0]']             \n",
      "                                                                                                  \n",
      " conv3d_2 (Conv3D)              (None, 16, 32, 32, 64)          110656      ['dropout[0][0]']     \n",
      "                                                                                                  \n",
      " batch_normalization_2 (BatchNo  (None, 16, 32, 32, 64)         256         ['conv3d_2[0][0]']    \n",
      " rmalization)                                                                                     \n",
      "                                                                                                  \n",
      " conv3d_3 (Conv3D)              (None, 16, 32, 32, 128)         221312      ['batch_normalization_\n",
      "                                                                            2[0][0]']             \n",
      "                                                                                                  \n",
      " max_pooling3d_1 (MaxPooling3D)  (None, 8, 16, 16, 128)         0           ['conv3d_3[0][0]']    \n",
      "                                                                                                  \n",
      " batch_normalization_3 (BatchNo  (None, 8, 16, 16, 128)         512         ['max_pooling3d_1[0][0\n",
      " rmalization)                                                               ]']                   \n",
      "                                                                                                  \n",
      " dropout_1 (Dropout)            (None, 8, 16, 16, 128)          0           ['batch_normalization_\n",
      "                                                                            3[0][0]']             \n",
      "                                                                                                  \n",
      " conv3d_4 (Conv3D)              (None, 8, 16, 16, 128)          442496      ['dropout_1[0][0]']   \n",
      "                                                                                                  \n",
      " batch_normalization_4 (BatchNo  (None, 8, 16, 16, 128)         512         ['conv3d_4[0][0]']    \n",
      " rmalization)                                                                                     \n",
      "                                                                                                  \n",
      " conv3d_5 (Conv3D)              (None, 8, 16, 16, 256)          884992      ['batch_normalization_\n",
      "                                                                            4[0][0]']             \n",
      "                                                                                                  \n",
      " max_pooling3d_2 (MaxPooling3D)  (None, 4, 8, 8, 256)           0           ['conv3d_5[0][0]']    \n",
      "                                                                                                  \n",
      " batch_normalization_5 (BatchNo  (None, 4, 8, 8, 256)           1024        ['max_pooling3d_2[0][0\n",
      " rmalization)                                                               ]']                   \n",
      "                                                                                                  \n",
      " dropout_2 (Dropout)            (None, 4, 8, 8, 256)            0           ['batch_normalization_\n",
      "                                                                            5[0][0]']             \n",
      "                                                                                                  \n",
      " conv3d_6 (Conv3D)              (None, 4, 8, 8, 256)            1769728     ['dropout_2[0][0]']   \n",
      "                                                                                                  \n",
      " batch_normalization_6 (BatchNo  (None, 4, 8, 8, 256)           1024        ['conv3d_6[0][0]']    \n",
      " rmalization)                                                                                     \n",
      "                                                                                                  \n",
      " conv3d_7 (Conv3D)              (None, 4, 8, 8, 512)            3539456     ['batch_normalization_\n",
      "                                                                            6[0][0]']             \n",
      "                                                                                                  \n",
      " conv3d_transpose (Conv3DTransp  (None, 8, 16, 16, 512)         7078400     ['conv3d_7[0][0]']    \n",
      " ose)                                                                                             \n",
      "                                                                                                  \n",
      " concatenate (Concatenate)      (None, 8, 16, 16, 768)          0           ['conv3d_transpose[0][\n",
      "                                                                            0]',                  \n",
      "                                                                             'conv3d_5[0][0]']    \n",
      "                                                                                                  \n",
      " dropout_3 (Dropout)            (None, 8, 16, 16, 768)          0           ['concatenate[0][0]'] \n",
      "                                                                                                  \n",
      " conv3d_8 (Conv3D)              (None, 8, 16, 16, 256)          5308672     ['dropout_3[0][0]']   \n",
      "                                                                                                  \n",
      " batch_normalization_7 (BatchNo  (None, 8, 16, 16, 256)         1024        ['conv3d_8[0][0]']    \n",
      " rmalization)                                                                                     \n",
      "                                                                                                  \n",
      " conv3d_9 (Conv3D)              (None, 8, 16, 16, 256)          1769728     ['batch_normalization_\n",
      "                                                                            7[0][0]']             \n",
      "                                                                                                  \n",
      " conv3d_transpose_1 (Conv3DTran  (None, 16, 32, 32, 256)        1769728     ['conv3d_9[0][0]']    \n",
      " spose)                                                                                           \n",
      "                                                                                                  \n",
      " concatenate_1 (Concatenate)    (None, 16, 32, 32, 384)         0           ['conv3d_transpose_1[0\n",
      "                                                                            ][0]',                \n",
      "                                                                             'conv3d_3[0][0]']    \n",
      "                                                                                                  \n",
      " dropout_4 (Dropout)            (None, 16, 32, 32, 384)         0           ['concatenate_1[0][0]'\n",
      "                                                                            ]                     \n",
      "                                                                                                  \n",
      " conv3d_10 (Conv3D)             (None, 16, 32, 32, 128)         1327232     ['dropout_4[0][0]']   \n",
      "                                                                                                  \n",
      " batch_normalization_9 (BatchNo  (None, 16, 32, 32, 128)        512         ['conv3d_10[0][0]']   \n",
      " rmalization)                                                                                     \n",
      "                                                                                                  \n",
      " conv3d_11 (Conv3D)             (None, 16, 32, 32, 128)         442496      ['batch_normalization_\n",
      "                                                                            9[0][0]']             \n",
      "                                                                                                  \n",
      " batch_normalization_10 (BatchN  (None, 16, 32, 32, 128)        512         ['conv3d_11[0][0]']   \n",
      " ormalization)                                                                                    \n",
      "                                                                                                  \n",
      " conv3d_transpose_2 (Conv3DTran  (None, 32, 64, 64, 128)        442496      ['batch_normalization_\n",
      " spose)                                                                     10[0][0]']            \n",
      "                                                                                                  \n",
      " concatenate_2 (Concatenate)    (None, 32, 64, 64, 192)         0           ['conv3d_transpose_2[0\n",
      "                                                                            ][0]',                \n",
      "                                                                             'conv3d_1[0][0]']    \n",
      "                                                                                                  \n",
      " dropout_5 (Dropout)            (None, 32, 64, 64, 192)         0           ['concatenate_2[0][0]'\n",
      "                                                                            ]                     \n",
      "                                                                                                  \n",
      " conv3d_12 (Conv3D)             (None, 32, 64, 64, 64)          331840      ['dropout_5[0][0]']   \n",
      "                                                                                                  \n",
      " batch_normalization_11 (BatchN  (None, 32, 64, 64, 64)         256         ['conv3d_12[0][0]']   \n",
      " ormalization)                                                                                    \n",
      "                                                                                                  \n",
      " conv3d_13 (Conv3D)             (None, 32, 64, 64, 64)          110656      ['batch_normalization_\n",
      "                                                                            11[0][0]']            \n",
      "                                                                                                  \n",
      " conv3d_14 (Conv3D)             (None, 32, 64, 64, 2)           130         ['conv3d_13[0][0]']   \n",
      "                                                                                                  \n",
      "==================================================================================================\n",
      "Total params: 25,575,426\n",
      "Trainable params: 25,572,418\n",
      "Non-trainable params: 3,008\n",
      "__________________________________________________________________________________________________\n"
     ]
    }
   ],
   "source": [
    "# Metrics and training\n",
    " \n",
    "adam = tf.keras.optimizers.Adam(\n",
    "    learning_rate=0.00001, beta_1=0.9, beta_2=0.999, epsilon=1e-07, amsgrad=False,\n",
    "    name='Adam')\n",
    "precision_all = tf.keras.metrics.Precision(\n",
    "    thresholds=0.5)\n",
    "precision = tf.keras.metrics.Precision(\n",
    "    thresholds=0.5, class_id=1)\n",
    "recall = tf.keras.metrics.Recall(\n",
    "    thresholds=0.5, class_id=1)\n",
    "\n",
    "model.compile(loss=\"categorical_crossentropy\", optimizer=adam, metrics=[precision_all,precision,recall])\n",
    "model.summary(positions=[.33, .66, .78, 1.])"
   ]
  },
  {
   "cell_type": "code",
   "execution_count": 6,
   "metadata": {},
   "outputs": [
    {
     "name": "stdout",
     "output_type": "stream",
     "text": [
      "Epoch 1/6\n",
      "    125/Unknown - 51s 349ms/step - loss: 0.4252 - precision: 0.8244 - precision_1: 0.1462 - recall: 0.1735\n",
      "Epoch 1: saving model to models\\3DUNET_lesion_32_32_64\\epoch-01-valloss-0.0394-0.00-0.06.hdf5\n",
      "125/125 [==============================] - 68s 489ms/step - loss: 0.4252 - precision: 0.8244 - precision_1: 0.1462 - recall: 0.1735 - val_loss: 0.0394 - val_precision: 0.9741 - val_precision_1: 0.0042 - val_recall: 0.0626 - lr: 0.0010\n",
      "Epoch 2/6\n",
      "125/125 [==============================] - ETA: 0s - loss: 0.2431 - precision: 0.7683 - precision_1: 0.1836 - recall: 0.4749\n",
      "Epoch 2: saving model to models\\3DUNET_lesion_32_32_64\\epoch-02-valloss-0.0933-0.00-0.35.hdf5\n",
      "125/125 [==============================] - 60s 473ms/step - loss: 0.2431 - precision: 0.7683 - precision_1: 0.1836 - recall: 0.4749 - val_loss: 0.0933 - val_precision: 0.8292 - val_precision_1: 0.0034 - val_recall: 0.3537 - lr: 0.0010\n",
      "Epoch 3/6\n",
      "125/125 [==============================] - ETA: 0s - loss: 0.2251 - precision: 0.7365 - precision_1: 0.2388 - recall: 0.8901\n",
      "Epoch 3: saving model to models\\3DUNET_lesion_32_32_64\\epoch-03-valloss-0.0762-0.01-0.99.hdf5\n",
      "125/125 [==============================] - 60s 477ms/step - loss: 0.2251 - precision: 0.7365 - precision_1: 0.2388 - recall: 0.8901 - val_loss: 0.0762 - val_precision: 0.7533 - val_precision_1: 0.0052 - val_recall: 0.9949 - lr: 9.5123e-04\n",
      "Epoch 4/6\n",
      "125/125 [==============================] - ETA: 0s - loss: 0.2145 - precision: 0.7297 - precision_1: 0.2406 - recall: 0.9441\n",
      "Epoch 4: saving model to models\\3DUNET_lesion_32_32_64\\epoch-04-valloss-0.0550-0.01-0.99.hdf5\n",
      "125/125 [==============================] - 59s 468ms/step - loss: 0.2145 - precision: 0.7297 - precision_1: 0.2406 - recall: 0.9441 - val_loss: 0.0550 - val_precision: 0.7607 - val_precision_1: 0.0053 - val_recall: 0.9937 - lr: 9.0484e-04\n",
      "Epoch 5/6\n",
      "125/125 [==============================] - ETA: 0s - loss: 0.2191 - precision: 0.7576 - precision_1: 0.2459 - recall: 0.7831\n",
      "Epoch 5: saving model to models\\3DUNET_lesion_32_32_64\\epoch-05-valloss-0.1024-0.01-0.82.hdf5\n",
      "125/125 [==============================] - 59s 465ms/step - loss: 0.2191 - precision: 0.7576 - precision_1: 0.2459 - recall: 0.7831 - val_loss: 0.1024 - val_precision: 0.7710 - val_precision_1: 0.0052 - val_recall: 0.8230 - lr: 8.6071e-04\n",
      "Epoch 6/6\n",
      "125/125 [==============================] - ETA: 0s - loss: 0.2128 - precision: 0.7596 - precision_1: 0.2581 - recall: 0.8164\n",
      "Epoch 6: saving model to models\\3DUNET_lesion_32_32_64\\epoch-06-valloss-0.0265-0.01-0.30.hdf5\n",
      "125/125 [==============================] - 60s 474ms/step - loss: 0.2128 - precision: 0.7596 - precision_1: 0.2581 - recall: 0.8164 - val_loss: 0.0265 - val_precision: 0.9119 - val_precision_1: 0.0053 - val_recall: 0.2979 - lr: 8.1873e-04\n"
     ]
    }
   ],
   "source": [
    "# Results\n",
    "# reading checkpoint if needen\n",
    "#\n",
    "#################################\n",
    "import pandas as pd\n",
    "from tensorflow.keras.callbacks import (\n",
    "    EarlyStopping,\n",
    "    ModelCheckpoint,\n",
    "    ReduceLROnPlateau,\n",
    "    TerminateOnNaN,\n",
    ")\n",
    "\n",
    "# training\n",
    "callbacks = [\n",
    "    # EarlyStopping(patience=10, verbose=1),\n",
    "    #ReduceLROnPlateau(factor=0.1, patience=10, min_lr=0.0000001, verbose=1),\n",
    "    tf.keras.callbacks.LearningRateScheduler(scheduler),\n",
    "    ModelCheckpoint(\n",
    "        \"models\\\\3DUNET_lesion_32_32_64\\\\epoch-{epoch:02d}-valloss-{val_loss:.4f}-{val_precision_1:.2f}-{val_recall:.2f}.hdf5\",\n",
    "        verbose=1,\n",
    "        save_best_only=False,\n",
    "        save_weights_only=True,\n",
    "    ),\n",
    "    TerminateOnNaN(),\n",
    "]\n",
    "epochs = 6\n",
    "\n",
    "history = model.fit(\n",
    "    dataset,\n",
    "    epochs=epochs,\n",
    "    validation_data=valid_dataset,\n",
    "    callbacks=callbacks,\n",
    "    initial_epoch=0\n",
    ")\n",
    "\n",
    "\n",
    "hist_df = pd.DataFrame(history.history) \n",
    "\n",
    "# save to json:  \n",
    "hist_json_file = 'history.json' \n",
    "with open(hist_json_file, mode='w') as f:\n",
    "    hist_df.to_json(f)\n",
    "\n",
    "# or save to csv: \n",
    "hist_csv_file = 'history.csv'\n",
    "with open(hist_csv_file, mode='w') as f:\n",
    "    hist_df.to_csv(f)"
   ]
  },
  {
   "cell_type": "code",
   "execution_count": 7,
   "metadata": {},
   "outputs": [
    {
     "data": {
      "image/png": "[encoded data removed]",
      "text/plain": [
       "<Figure size 640x480 with 1 Axes>"
      ]
     },
     "metadata": {},
     "output_type": "display_data"
    },
    {
     "name": "stdout",
     "output_type": "stream",
     "text": [
      "INFO:tensorflow:Assets written to: ram://b4118762-4a11-4a29-a232-90269bc5d2fb/assets\n"
     ]
    }
   ],
   "source": [
    "\n",
    "\n",
    "plt.plot(history.history['loss'])\n",
    "plt.plot(history.history['val_loss'])\n",
    "plt.title('model loss')\n",
    "plt.ylabel('loss')\n",
    "plt.xlabel('epoch')\n",
    "plt.legend(['train', 'val'], loc='upper left')\n",
    "plt.show()\n",
    "\n",
    "np.save(\"3Dunet_history_lesion.npy\",np.array(history))\n",
    "\n"
   ]
  },
  {
   "cell_type": "code",
   "execution_count": null,
   "metadata": {},
   "outputs": [],
   "source": [
    "#a zrób testowy trening od modelu do wątroby :))) mnoże będzie lepiej!"
   ]
  },
  {
   "cell_type": "code",
   "execution_count": 12,
   "metadata": {},
   "outputs": [],
   "source": [
    "new_model = tf.keras.models.load_model(\"models\\\\2DUNET_lesion_16_256\\0.0023-0.43-0.76-epoch-74.hdf5\")\n",
    "\n",
    "\n",
    "n_max = 700\n",
    "n=0\n",
    "for x in loader_valid.data_generator_2d_lesion():\n",
    "   if n < 100:\n",
    "      pass\n",
    "   elif n < n_max:\n",
    "      plt.subplot(1,3,1)\n",
    "      plt.imshow(x[0])\n",
    "      plt.subplot(1,3,2)\n",
    "      preds = new_model.predict(tf.reshape(x[0],[1,256,256,1]))\n",
    "      plt.imshow(preds[0,:,:,1])\n",
    "      plt.subplot(1,3,3)\n",
    "      plt.imshow(x[1][:,:,1])\n",
    "      plt.show()\n",
    "   else:\n",
    "      break\n",
    "   n+=1"
   ]
  },
  {
   "cell_type": "code",
   "execution_count": null,
   "metadata": {},
   "outputs": [],
   "source": []
  }
 ],
 "metadata": {
  "kernelspec": {
   "display_name": "tf2.8",
   "language": "python",
   "name": "tf2.8"
  },
  "language_info": {
   "codemirror_mode": {
    "name": "ipython",
    "version": 3
   },
   "file_extension": ".py",
   "mimetype": "text/x-python",
   "name": "python",
   "nbconvert_exporter": "python",
   "pygments_lexer": "ipython3",
   "version": "3.10.0"
  },
  "orig_nbformat": 4,
  "vscode": {
   "interpreter": {
    "hash": "f9b479fa97f672ded16c3aa2c05a2af574f512ec55675434aaf269f9ffd0698c"
   }
  }
 },
 "nbformat": 4,
 "nbformat_minor": 2
}
