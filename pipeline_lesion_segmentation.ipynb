{
 "cells": [
  {
   "cell_type": "markdown",
   "metadata": {},
   "source": [
    "# 3DRDNN\n",
    "\n",
    "Main pipeline for research in my Master.\n",
    "\n",
    "## goals in this notebook\n",
    "\n",
    "Prepare the pipeline for any 3d DNN to train on CT data.\n",
    "1) data loader\n",
    "2) DNN\n",
    "3) Training\n",
    "4) Results comparison"
   ]
  },
  {
   "cell_type": "code",
   "execution_count": 1,
   "metadata": {},
   "outputs": [
    {
     "name": "stdout",
     "output_type": "stream",
     "text": [
      "TensorFlow Version: 2.10.1\n",
      "/device:GPU:0\n"
     ]
    }
   ],
   "source": [
    "# Testing reading GPU\n",
    "from distutils.version import LooseVersion\n",
    "import warnings\n",
    "import tensorflow as tf\n",
    "from matplotlib import pyplot as plt\n",
    "import numpy as np\n",
    "# Check TensorFlow Version\n",
    "print('TensorFlow Version: {}'.format(tf.__version__))\n",
    "\n",
    "# Check for a GPU\n",
    "if not tf.test.gpu_device_name():\n",
    "    warnings.warn('No GPU found. Please ensure you have installed TensorFlow correctly')\n",
    "else:\n",
    "    print(tf.test.gpu_device_name())"
   ]
  },
  {
   "cell_type": "code",
   "execution_count": 2,
   "metadata": {},
   "outputs": [
    {
     "name": "stdout",
     "output_type": "stream",
     "text": [
      "initalised with path data\\LITS_Challenge\\train\n",
      "files: 50,50\n",
      "initalised with path data\\LITS_Challenge\\valid\n",
      "files: 15,15\n",
      "['C:\\\\Users\\\\kaczm\\\\programming\\\\3DRDNN\\\\data\\\\LITS_TFRecords_2D\\\\train\\\\images0.tfrecords', 'C:\\\\Users\\\\kaczm\\\\programming\\\\3DRDNN\\\\data\\\\LITS_TFRecords_2D\\\\train\\\\images1.tfrecords', 'C:\\\\Users\\\\kaczm\\\\programming\\\\3DRDNN\\\\data\\\\LITS_TFRecords_2D\\\\train\\\\images10.tfrecords', 'C:\\\\Users\\\\kaczm\\\\programming\\\\3DRDNN\\\\data\\\\LITS_TFRecords_2D\\\\train\\\\images11.tfrecords', 'C:\\\\Users\\\\kaczm\\\\programming\\\\3DRDNN\\\\data\\\\LITS_TFRecords_2D\\\\train\\\\images12.tfrecords', 'C:\\\\Users\\\\kaczm\\\\programming\\\\3DRDNN\\\\data\\\\LITS_TFRecords_2D\\\\train\\\\images13.tfrecords', 'C:\\\\Users\\\\kaczm\\\\programming\\\\3DRDNN\\\\data\\\\LITS_TFRecords_2D\\\\train\\\\images14.tfrecords', 'C:\\\\Users\\\\kaczm\\\\programming\\\\3DRDNN\\\\data\\\\LITS_TFRecords_2D\\\\train\\\\images2.tfrecords', 'C:\\\\Users\\\\kaczm\\\\programming\\\\3DRDNN\\\\data\\\\LITS_TFRecords_2D\\\\train\\\\images3.tfrecords', 'C:\\\\Users\\\\kaczm\\\\programming\\\\3DRDNN\\\\data\\\\LITS_TFRecords_2D\\\\train\\\\images4.tfrecords', 'C:\\\\Users\\\\kaczm\\\\programming\\\\3DRDNN\\\\data\\\\LITS_TFRecords_2D\\\\train\\\\images5.tfrecords', 'C:\\\\Users\\\\kaczm\\\\programming\\\\3DRDNN\\\\data\\\\LITS_TFRecords_2D\\\\train\\\\images6.tfrecords', 'C:\\\\Users\\\\kaczm\\\\programming\\\\3DRDNN\\\\data\\\\LITS_TFRecords_2D\\\\train\\\\images7.tfrecords', 'C:\\\\Users\\\\kaczm\\\\programming\\\\3DRDNN\\\\data\\\\LITS_TFRecords_2D\\\\train\\\\images8.tfrecords', 'C:\\\\Users\\\\kaczm\\\\programming\\\\3DRDNN\\\\data\\\\LITS_TFRecords_2D\\\\train\\\\images9.tfrecords']\n",
      "['C:\\\\Users\\\\kaczm\\\\programming\\\\3DRDNN\\\\data\\\\LITS_TFRecords_2D\\\\valid\\\\images0.tfrecords', 'C:\\\\Users\\\\kaczm\\\\programming\\\\3DRDNN\\\\data\\\\LITS_TFRecords_2D\\\\valid\\\\images1.tfrecords', 'C:\\\\Users\\\\kaczm\\\\programming\\\\3DRDNN\\\\data\\\\LITS_TFRecords_2D\\\\valid\\\\images2.tfrecords', 'C:\\\\Users\\\\kaczm\\\\programming\\\\3DRDNN\\\\data\\\\LITS_TFRecords_2D\\\\valid\\\\images3.tfrecords', 'C:\\\\Users\\\\kaczm\\\\programming\\\\3DRDNN\\\\data\\\\LITS_TFRecords_2D\\\\valid\\\\images4.tfrecords', 'C:\\\\Users\\\\kaczm\\\\programming\\\\3DRDNN\\\\data\\\\LITS_TFRecords_2D\\\\valid\\\\images5.tfrecords', 'C:\\\\Users\\\\kaczm\\\\programming\\\\3DRDNN\\\\data\\\\LITS_TFRecords_2D\\\\valid\\\\images6.tfrecords']\n",
      "(32, 256, 256, 1)\n",
      "(32, 256, 256, 1)\n",
      "(32, 256, 256, 1)\n",
      "(32, 256, 256, 1)\n",
      "0.0\n",
      "1.0\n",
      "(32, 256, 256, 1)\n",
      "(32, 256, 256, 1)\n",
      "0.0\n",
      "1.0\n",
      "<BatchDataset element_spec=(TensorSpec(shape=(None, None, None, None), dtype=tf.float32, name=None), TensorSpec(shape=(None, None, None, None), dtype=tf.float32, name=None))>\n",
      "<BatchDataset element_spec=(TensorSpec(shape=(None, None, None, None), dtype=tf.float32, name=None), TensorSpec(shape=(None, None, None, None), dtype=tf.float32, name=None))>\n"
     ]
    }
   ],
   "source": [
    "# datasets for tf\n",
    "from data_preprocessing import get_dataset_large\n",
    "\n",
    "batch_size = 32\n",
    "dataset = get_dataset_large(\n",
    "    \"C:\\\\Users\\\\kaczm\\\\programming\\\\3DRDNN\\\\data\\\\LITS_TFRecords_2D\\\\train\\\\\"\n",
    ")\n",
    "\n",
    "dataset = dataset.shuffle(37008).batch(batch_size)\n",
    "valid_dataset = get_dataset_large(\n",
    "    \"C:\\\\Users\\\\kaczm\\\\programming\\\\3DRDNN\\\\data\\\\LITS_TFRecords_2D\\\\valid\\\\\")\n",
    "valid_dataset = valid_dataset.batch(\n",
    "    batch_size\n",
    ")\n",
    "\n",
    "for sample in dataset.take(1):\n",
    "    print(sample[0].shape)\n",
    "    print(sample[1].shape)\n",
    "\n",
    "for sample in valid_dataset.take(2):\n",
    "    print(sample[0].shape)\n",
    "    print(sample[1].shape)\n",
    "    print(np.min(sample[0]))\n",
    "    print(np.max(sample[0]))\n",
    "\n",
    "print(dataset)\n",
    "print(valid_dataset)"
   ]
  },
  {
   "cell_type": "code",
   "execution_count": 3,
   "metadata": {},
   "outputs": [],
   "source": [
    "# Network set-up\n",
    "from utils import models\n",
    "\n",
    "model = models.model_call(model_name=\"2DUNET\",px=256,features=16)"
   ]
  },
  {
   "cell_type": "code",
   "execution_count": 4,
   "metadata": {},
   "outputs": [
    {
     "name": "stdout",
     "output_type": "stream",
     "text": [
      "Model: \"model\"\n",
      "__________________________________________________________________________________________________\n",
      " Layer (type)                   Output Shape                    Param #     Connected to          \n",
      "==================================================================================================\n",
      " input_1 (InputLayer)           [(None, 256, 256, 1)]           0           []                    \n",
      "                                                                                                  \n",
      " conv2d (Conv2D)                (None, 256, 256, 16)            160         ['input_1[0][0]']     \n",
      "                                                                                                  \n",
      " conv2d_1 (Conv2D)              (None, 256, 256, 16)            2320        ['conv2d[0][0]']      \n",
      "                                                                                                  \n",
      " max_pooling2d (MaxPooling2D)   (None, 128, 128, 16)            0           ['conv2d_1[0][0]']    \n",
      "                                                                                                  \n",
      " dropout (Dropout)              (None, 128, 128, 16)            0           ['max_pooling2d[0][0]'\n",
      "                                                                            ]                     \n",
      "                                                                                                  \n",
      " conv2d_2 (Conv2D)              (None, 128, 128, 32)            4640        ['dropout[0][0]']     \n",
      "                                                                                                  \n",
      " conv2d_3 (Conv2D)              (None, 128, 128, 32)            9248        ['conv2d_2[0][0]']    \n",
      "                                                                                                  \n",
      " max_pooling2d_1 (MaxPooling2D)  (None, 64, 64, 32)             0           ['conv2d_3[0][0]']    \n",
      "                                                                                                  \n",
      " dropout_1 (Dropout)            (None, 64, 64, 32)              0           ['max_pooling2d_1[0][0\n",
      "                                                                            ]']                   \n",
      "                                                                                                  \n",
      " conv2d_4 (Conv2D)              (None, 64, 64, 64)              18496       ['dropout_1[0][0]']   \n",
      "                                                                                                  \n",
      " conv2d_5 (Conv2D)              (None, 64, 64, 64)              36928       ['conv2d_4[0][0]']    \n",
      "                                                                                                  \n",
      " max_pooling2d_2 (MaxPooling2D)  (None, 32, 32, 64)             0           ['conv2d_5[0][0]']    \n",
      "                                                                                                  \n",
      " dropout_2 (Dropout)            (None, 32, 32, 64)              0           ['max_pooling2d_2[0][0\n",
      "                                                                            ]']                   \n",
      "                                                                                                  \n",
      " conv2d_6 (Conv2D)              (None, 32, 32, 128)             73856       ['dropout_2[0][0]']   \n",
      "                                                                                                  \n",
      " conv2d_7 (Conv2D)              (None, 32, 32, 128)             147584      ['conv2d_6[0][0]']    \n",
      "                                                                                                  \n",
      " max_pooling2d_3 (MaxPooling2D)  (None, 16, 16, 128)            0           ['conv2d_7[0][0]']    \n",
      "                                                                                                  \n",
      " dropout_3 (Dropout)            (None, 16, 16, 128)             0           ['max_pooling2d_3[0][0\n",
      "                                                                            ]']                   \n",
      "                                                                                                  \n",
      " conv2d_8 (Conv2D)              (None, 16, 16, 256)             295168      ['dropout_3[0][0]']   \n",
      "                                                                                                  \n",
      " conv2d_9 (Conv2D)              (None, 16, 16, 256)             590080      ['conv2d_8[0][0]']    \n",
      "                                                                                                  \n",
      " conv2d_transpose (Conv2DTransp  (None, 32, 32, 128)            295040      ['conv2d_9[0][0]']    \n",
      " ose)                                                                                             \n",
      "                                                                                                  \n",
      " concatenate (Concatenate)      (None, 32, 32, 256)             0           ['conv2d_transpose[0][\n",
      "                                                                            0]',                  \n",
      "                                                                             'conv2d_7[0][0]']    \n",
      "                                                                                                  \n",
      " dropout_4 (Dropout)            (None, 32, 32, 256)             0           ['concatenate[0][0]'] \n",
      "                                                                                                  \n",
      " conv2d_10 (Conv2D)             (None, 32, 32, 128)             295040      ['dropout_4[0][0]']   \n",
      "                                                                                                  \n",
      " conv2d_11 (Conv2D)             (None, 32, 32, 128)             147584      ['conv2d_10[0][0]']   \n",
      "                                                                                                  \n",
      " conv2d_transpose_1 (Conv2DTran  (None, 64, 64, 64)             73792       ['conv2d_11[0][0]']   \n",
      " spose)                                                                                           \n",
      "                                                                                                  \n",
      " concatenate_1 (Concatenate)    (None, 64, 64, 128)             0           ['conv2d_transpose_1[0\n"
     ]
    },
    {
     "name": "stdout",
     "output_type": "stream",
     "text": [
      "                                                                            ][0]',                \n",
      "                                                                             'conv2d_5[0][0]']    \n",
      "                                                                                                  \n",
      " dropout_5 (Dropout)            (None, 64, 64, 128)             0           ['concatenate_1[0][0]'\n",
      "                                                                            ]                     \n",
      "                                                                                                  \n",
      " conv2d_12 (Conv2D)             (None, 64, 64, 64)              73792       ['dropout_5[0][0]']   \n",
      "                                                                                                  \n",
      " conv2d_13 (Conv2D)             (None, 64, 64, 64)              36928       ['conv2d_12[0][0]']   \n",
      "                                                                                                  \n",
      " conv2d_transpose_2 (Conv2DTran  (None, 128, 128, 32)           18464       ['conv2d_13[0][0]']   \n",
      " spose)                                                                                           \n",
      "                                                                                                  \n",
      " concatenate_2 (Concatenate)    (None, 128, 128, 64)            0           ['conv2d_transpose_2[0\n",
      "                                                                            ][0]',                \n",
      "                                                                             'conv2d_3[0][0]']    \n",
      "                                                                                                  \n",
      " dropout_6 (Dropout)            (None, 128, 128, 64)            0           ['concatenate_2[0][0]'\n",
      "                                                                            ]                     \n",
      "                                                                                                  \n",
      " conv2d_14 (Conv2D)             (None, 128, 128, 32)            18464       ['dropout_6[0][0]']   \n",
      "                                                                                                  \n",
      " conv2d_15 (Conv2D)             (None, 128, 128, 32)            9248        ['conv2d_14[0][0]']   \n",
      "                                                                                                  \n",
      " conv2d_transpose_3 (Conv2DTran  (None, 256, 256, 16)           4624        ['conv2d_15[0][0]']   \n",
      " spose)                                                                                           \n",
      "                                                                                                  \n",
      " concatenate_3 (Concatenate)    (None, 256, 256, 32)            0           ['conv2d_transpose_3[0\n",
      "                                                                            ][0]',                \n",
      "                                                                             'conv2d_1[0][0]']    \n",
      "                                                                                                  \n",
      " dropout_7 (Dropout)            (None, 256, 256, 32)            0           ['concatenate_3[0][0]'\n",
      "                                                                            ]                     \n",
      "                                                                                                  \n",
      " conv2d_16 (Conv2D)             (None, 256, 256, 16)            4624        ['dropout_7[0][0]']   \n",
      "                                                                                                  \n",
      " conv2d_17 (Conv2D)             (None, 256, 256, 16)            2320        ['conv2d_16[0][0]']   \n",
      "                                                                                                  \n",
      " conv2d_18 (Conv2D)             (None, 256, 256, 1)             17          ['conv2d_17[0][0]']   \n",
      "                                                                                                  \n",
      "==================================================================================================\n",
      "Total params: 2,158,417\n",
      "Trainable params: 2,158,417\n",
      "Non-trainable params: 0\n",
      "__________________________________________________________________________________________________\n"
     ]
    }
   ],
   "source": [
    "# Metrics and training\n",
    " \n",
    "adam = tf.keras.optimizers.Adam(\n",
    "    learning_rate=0.00001, beta_1=0.9, beta_2=0.999, epsilon=1e-07, amsgrad=False,\n",
    "    name='Adam')\n",
    "precision = tf.keras.metrics.Precision(\n",
    "    thresholds=0.5)\n",
    "recall = tf.keras.metrics.Recall(\n",
    "    thresholds=0.5)\n",
    "\n",
    "model.compile(loss=\"binary_crossentropy\", optimizer=adam, metrics=[precision,recall])\n",
    "model.summary(positions=[.33, .66, .78, 1.])"
   ]
  },
  {
   "cell_type": "code",
   "execution_count": 5,
   "metadata": {},
   "outputs": [
    {
     "name": "stdout",
     "output_type": "stream",
     "text": [
      "Epoch 31/50\n",
      "    938/Unknown - 296s 239ms/step - loss: 0.0102 - precision: 0.9193 - recall: 0.8970\n",
      "Epoch 31: saving model to models\\2DUNET_lesion_16_256\\epoch-31-valloss-0.1604-0.28-0.96.hdf5\n",
      "938/938 [==============================] - 322s 266ms/step - loss: 0.0102 - precision: 0.9193 - recall: 0.8970 - val_loss: 0.1604 - val_precision: 0.2803 - val_recall: 0.9649\n",
      "Epoch 32/50\n",
      "938/938 [==============================] - ETA: 0s - loss: 0.0098 - precision: 0.9219 - recall: 0.9030\n",
      "Epoch 32: saving model to models\\2DUNET_lesion_16_256\\epoch-32-valloss-0.1384-0.31-0.95.hdf5\n",
      "938/938 [==============================] - 299s 268ms/step - loss: 0.0098 - precision: 0.9219 - recall: 0.9030 - val_loss: 0.1384 - val_precision: 0.3110 - val_recall: 0.9546\n",
      "Epoch 33/50\n",
      "938/938 [==============================] - ETA: 0s - loss: 0.0093 - precision: 0.9250 - recall: 0.9084\n",
      "Epoch 33: saving model to models\\2DUNET_lesion_16_256\\epoch-33-valloss-0.1237-0.34-0.96.hdf5\n",
      "938/938 [==============================] - 304s 265ms/step - loss: 0.0093 - precision: 0.9250 - recall: 0.9084 - val_loss: 0.1237 - val_precision: 0.3433 - val_recall: 0.9589\n",
      "Epoch 34/50\n",
      "938/938 [==============================] - ETA: 0s - loss: 0.0089 - precision: 0.9278 - recall: 0.9127\n",
      "Epoch 34: saving model to models\\2DUNET_lesion_16_256\\epoch-34-valloss-0.1410-0.31-0.97.hdf5\n",
      "938/938 [==============================] - 327s 283ms/step - loss: 0.0089 - precision: 0.9278 - recall: 0.9127 - val_loss: 0.1410 - val_precision: 0.3140 - val_recall: 0.9663\n",
      "Epoch 35/50\n",
      "938/938 [==============================] - ETA: 0s - loss: 0.0085 - precision: 0.9306 - recall: 0.9173\n",
      "Epoch 35: saving model to models\\2DUNET_lesion_16_256\\epoch-35-valloss-0.0954-0.40-0.95.hdf5\n",
      "938/938 [==============================] - 341s 285ms/step - loss: 0.0085 - precision: 0.9306 - recall: 0.9173 - val_loss: 0.0954 - val_precision: 0.4028 - val_recall: 0.9484\n",
      "Epoch 36/50\n",
      "938/938 [==============================] - ETA: 0s - loss: 0.0082 - precision: 0.9331 - recall: 0.9208\n",
      "Epoch 36: saving model to models\\2DUNET_lesion_16_256\\epoch-36-valloss-0.0997-0.41-0.95.hdf5\n",
      "938/938 [==============================] - 343s 283ms/step - loss: 0.0082 - precision: 0.9331 - recall: 0.9208 - val_loss: 0.0997 - val_precision: 0.4092 - val_recall: 0.9495\n",
      "Epoch 37/50\n",
      "938/938 [==============================] - ETA: 0s - loss: 0.0078 - precision: 0.9365 - recall: 0.9244\n",
      "Epoch 37: saving model to models\\2DUNET_lesion_16_256\\epoch-37-valloss-0.0869-0.45-0.95.hdf5\n",
      "938/938 [==============================] - 331s 271ms/step - loss: 0.0078 - precision: 0.9365 - recall: 0.9244 - val_loss: 0.0869 - val_precision: 0.4544 - val_recall: 0.9506\n",
      "Epoch 38/50\n",
      "938/938 [==============================] - ETA: 0s - loss: 0.0075 - precision: 0.9392 - recall: 0.9279\n",
      "Epoch 38: saving model to models\\2DUNET_lesion_16_256\\epoch-38-valloss-0.1026-0.43-0.96.hdf5\n",
      "938/938 [==============================] - 355s 282ms/step - loss: 0.0075 - precision: 0.9392 - recall: 0.9279 - val_loss: 0.1026 - val_precision: 0.4272 - val_recall: 0.9588\n",
      "Epoch 39/50\n",
      "938/938 [==============================] - ETA: 0s - loss: 0.0072 - precision: 0.9411 - recall: 0.9306\n",
      "Epoch 39: saving model to models\\2DUNET_lesion_16_256\\epoch-39-valloss-0.1011-0.44-0.97.hdf5\n",
      "938/938 [==============================] - 359s 285ms/step - loss: 0.0072 - precision: 0.9411 - recall: 0.9306 - val_loss: 0.1011 - val_precision: 0.4381 - val_recall: 0.9723\n",
      "Epoch 40/50\n",
      "938/938 [==============================] - ETA: 0s - loss: 0.0070 - precision: 0.9431 - recall: 0.9333\n",
      "Epoch 40: saving model to models\\2DUNET_lesion_16_256\\epoch-40-valloss-0.0697-0.54-0.94.hdf5\n",
      "938/938 [==============================] - 365s 281ms/step - loss: 0.0070 - precision: 0.9431 - recall: 0.9333 - val_loss: 0.0697 - val_precision: 0.5357 - val_recall: 0.9434\n",
      "Epoch 41/50\n",
      "938/938 [==============================] - ETA: 0s - loss: 0.0068 - precision: 0.9439 - recall: 0.9351\n",
      "Epoch 41: saving model to models\\2DUNET_lesion_16_256\\epoch-41-valloss-0.0546-0.60-0.94.hdf5\n",
      "938/938 [==============================] - 334s 247ms/step - loss: 0.0068 - precision: 0.9439 - recall: 0.9351 - val_loss: 0.0546 - val_precision: 0.6046 - val_recall: 0.9404\n",
      "Epoch 42/50\n",
      "938/938 [==============================] - ETA: 0s - loss: 0.0066 - precision: 0.9454 - recall: 0.9378\n",
      "Epoch 42: saving model to models\\2DUNET_lesion_16_256\\epoch-42-valloss-0.0736-0.52-0.95.hdf5\n",
      "938/938 [==============================] - 328s 238ms/step - loss: 0.0066 - precision: 0.9454 - recall: 0.9378 - val_loss: 0.0736 - val_precision: 0.5233 - val_recall: 0.9542\n",
      "Epoch 43/50\n",
      "938/938 [==============================] - ETA: 0s - loss: 0.0064 - precision: 0.9466 - recall: 0.9391\n",
      "Epoch 43: saving model to models\\2DUNET_lesion_16_256\\epoch-43-valloss-0.0588-0.58-0.95.hdf5\n",
      "938/938 [==============================] - 411s 298ms/step - loss: 0.0064 - precision: 0.9466 - recall: 0.9391 - val_loss: 0.0588 - val_precision: 0.5789 - val_recall: 0.9530\n",
      "Epoch 44/50\n",
      "938/938 [==============================] - ETA: 0s - loss: 0.0062 - precision: 0.9480 - recall: 0.9410\n",
      "Epoch 44: saving model to models\\2DUNET_lesion_16_256\\epoch-44-valloss-0.0625-0.56-0.95.hdf5\n",
      "938/938 [==============================] - 432s 306ms/step - loss: 0.0062 - precision: 0.9480 - recall: 0.9410 - val_loss: 0.0625 - val_precision: 0.5645 - val_recall: 0.9525\n",
      "Epoch 45/50\n",
      "938/938 [==============================] - ETA: 0s - loss: 0.0060 - precision: 0.9489 - recall: 0.9426\n",
      "Epoch 45: saving model to models\\2DUNET_lesion_16_256\\epoch-45-valloss-0.0635-0.58-0.95.hdf5\n",
      "938/938 [==============================] - 467s 327ms/step - loss: 0.0060 - precision: 0.9489 - recall: 0.9426 - val_loss: 0.0635 - val_precision: 0.5753 - val_recall: 0.9524\n",
      "Epoch 46/50\n",
      "938/938 [==============================] - ETA: 0s - loss: 0.0059 - precision: 0.9502 - recall: 0.9444\n",
      "Epoch 46: saving model to models\\2DUNET_lesion_16_256\\epoch-46-valloss-0.0577-0.59-0.95.hdf5\n",
      "938/938 [==============================] - 478s 323ms/step - loss: 0.0059 - precision: 0.9502 - recall: 0.9444 - val_loss: 0.0577 - val_precision: 0.5906 - val_recall: 0.9487\n",
      "Epoch 47/50\n",
      "938/938 [==============================] - ETA: 0s - loss: 0.0057 - precision: 0.9511 - recall: 0.9457\n",
      "Epoch 47: saving model to models\\2DUNET_lesion_16_256\\epoch-47-valloss-0.0553-0.61-0.95.hdf5\n",
      "938/938 [==============================] - 494s 336ms/step - loss: 0.0057 - precision: 0.9511 - recall: 0.9457 - val_loss: 0.0553 - val_precision: 0.6064 - val_recall: 0.9502\n",
      "Epoch 48/50\n",
      "938/938 [==============================] - ETA: 0s - loss: 0.0056 - precision: 0.9521 - recall: 0.9465\n",
      "Epoch 48: saving model to models\\2DUNET_lesion_16_256\\epoch-48-valloss-0.0517-0.62-0.95.hdf5\n",
      "938/938 [==============================] - 492s 332ms/step - loss: 0.0056 - precision: 0.9521 - recall: 0.9465 - val_loss: 0.0517 - val_precision: 0.6241 - val_recall: 0.9481\n",
      "Epoch 49/50\n",
      "938/938 [==============================] - ETA: 0s - loss: 0.0055 - precision: 0.9529 - recall: 0.9475\n",
      "Epoch 49: saving model to models\\2DUNET_lesion_16_256\\epoch-49-valloss-0.0475-0.65-0.95.hdf5\n",
      "938/938 [==============================] - 555s 373ms/step - loss: 0.0055 - precision: 0.9529 - recall: 0.9475 - val_loss: 0.0475 - val_precision: 0.6510 - val_recall: 0.9478\n",
      "Epoch 50/50\n",
      "938/938 [==============================] - ETA: 0s - loss: 0.0054 - precision: 0.9538 - recall: 0.9487\n",
      "Epoch 50: saving model to models\\2DUNET_lesion_16_256\\epoch-50-valloss-0.0497-0.64-0.95.hdf5\n",
      "938/938 [==============================] - 597s 378ms/step - loss: 0.0054 - precision: 0.9538 - recall: 0.9487 - val_loss: 0.0497 - val_precision: 0.6382 - val_recall: 0.9454\n"
     ]
    }
   ],
   "source": [
    "# Results\n",
    "# reading checkpoint if needen\n",
    "#\n",
    "#################################\n",
    "\n",
    "from tensorflow.keras.callbacks import (\n",
    "    EarlyStopping,\n",
    "    ModelCheckpoint,\n",
    "    ReduceLROnPlateau,\n",
    "    TerminateOnNaN,\n",
    ")\n",
    "\n",
    "\n",
    "#model.load_weights(\"models\\\\2DUNET_lesion_16_256\\\\epoch-30-valloss-0.1750-0.26-0.97.hdf5\")\n",
    "\n",
    "# training\n",
    "callbacks = [\n",
    "    # EarlyStopping(patience=10, verbose=1),\n",
    "    #ReduceLROnPlateau(factor=0.1, patience=10, min_lr=0.0000001, verbose=1),\n",
    "    ModelCheckpoint(\n",
    "        \"models\\\\2DUNET_lesion_16_256\\\\epoch-{epoch:02d}-valloss-{val_loss:.4f}-{val_precision:.2f}-{val_recall:.2f}.hdf5\",\n",
    "        verbose=1,\n",
    "        save_best_only=False,\n",
    "        save_weights_only=False,\n",
    "    ),\n",
    "    TerminateOnNaN(),\n",
    "]\n",
    "epochs = 60\n",
    "\n",
    "history = model.fit(\n",
    "    dataset,\n",
    "    validation_data=valid_dataset,\n",
    "    callbacks=callbacks,\n",
    "    initial_epoch=50,\n",
    "    epochs=epochs,\n",
    ")"
   ]
  },
  {
   "cell_type": "code",
   "execution_count": 6,
   "metadata": {},
   "outputs": [
    {
     "data": {
      "image/png": "[encoded data removed]",
      "text/plain": [
       "<Figure size 640x480 with 1 Axes>"
      ]
     },
     "metadata": {},
     "output_type": "display_data"
    },
    {
     "name": "stderr",
     "output_type": "stream",
     "text": [
      "WARNING:absl:Found untraced functions such as _jit_compiled_convolution_op, _jit_compiled_convolution_op, _jit_compiled_convolution_op, _jit_compiled_convolution_op, _jit_compiled_convolution_op while saving (showing 5 of 23). These functions will not be directly callable after loading.\n"
     ]
    },
    {
     "name": "stdout",
     "output_type": "stream",
     "text": [
      "INFO:tensorflow:Assets written to: ram://1d300b1b-9a0a-4568-9899-38cb3094290f/assets\n"
     ]
    },
    {
     "name": "stderr",
     "output_type": "stream",
     "text": [
      "INFO:tensorflow:Assets written to: ram://1d300b1b-9a0a-4568-9899-38cb3094290f/assets\n"
     ]
    }
   ],
   "source": [
    "\n",
    "\n",
    "plt.plot(history.history['loss'])\n",
    "plt.plot(history.history['val_loss'])\n",
    "plt.title('model loss')\n",
    "plt.ylabel('loss')\n",
    "plt.xlabel('epoch')\n",
    "plt.legend(['train', 'val'], loc='upper left')\n",
    "plt.show()\n",
    "\n",
    "np.save(\"2Dunet_history_lesion_50_70.npy\",np.array(history))\n",
    "\n"
   ]
  },
  {
   "cell_type": "code",
   "execution_count": 7,
   "metadata": {},
   "outputs": [
    {
     "data": {
      "image/png": "[encoded data removed]",
      "text/plain": [
       "<Figure size 640x480 with 1 Axes>"
      ]
     },
     "metadata": {},
     "output_type": "display_data"
    }
   ],
   "source": [
    "#a zrób testowy trening od modelu do wątroby :))) mnoże będzie lepiej!\n",
    "\n",
    "plt.plot(history.history['val_precision'])\n",
    "plt.plot(history.history['val_recall'])\n",
    "plt.ylabel('loss')\n",
    "plt.xlabel('epoch')\n",
    "plt.legend(['train', 'val'], loc='upper left')\n",
    "plt.show()"
   ]
  },
  {
   "cell_type": "code",
   "execution_count": 16,
   "metadata": {},
   "outputs": [
    {
     "name": "stdout",
     "output_type": "stream",
     "text": [
      "263/263 [==============================] - 24s 90ms/step - loss: 0.1750 - precision_5: 0.6134 - recall_5: 0.7025\n"
     ]
    },
    {
     "data": {
      "text/plain": [
       "[0.1749546378850937, 0.6133501529693604, 0.702461302280426]"
      ]
     },
     "execution_count": 16,
     "metadata": {},
     "output_type": "execute_result"
    }
   ],
   "source": [
    "new_model = models.model_call(model_name=\"2DUNET\",px=256,features=16)\n",
    "\n",
    "new_model.load_weights(\"models\\\\2DUNET_lesion_16_256\\\\epoch-30-valloss-0.1750-0.26-0.97.hdf5\")\n",
    "threshold = 0.99\n",
    "\n",
    "\n",
    "adam = tf.keras.optimizers.Adam(\n",
    "    learning_rate=0.00001, beta_1=0.9, beta_2=0.999, epsilon=1e-07, amsgrad=False,\n",
    "    name='Adam')\n",
    "precision = tf.keras.metrics.Precision(\n",
    "    thresholds=threshold)\n",
    "recall = tf.keras.metrics.Recall(\n",
    "    thresholds=threshold)\n",
    "\n",
    "new_model.compile(loss=\"binary_crossentropy\", optimizer=adam, metrics=[precision,recall])\n",
    "\n",
    "\n",
    "\n",
    "new_model.evaluate(valid_dataset)"
   ]
  },
  {
   "cell_type": "code",
   "execution_count": null,
   "metadata": {},
   "outputs": [],
   "source": [
    "\n",
    "\n",
    "\n",
    "n_max = 700\n",
    "n=0\n",
    "for x in loader_valid.data_generator_2d_lesion():\n",
    "   if n < 100:\n",
    "      pass\n",
    "   elif n < n_max:\n",
    "      plt.subplot(1,3,1)\n",
    "      plt.imshow(x[0])\n",
    "      plt.subplot(1,3,2)\n",
    "      preds = new_model.predict(tf.reshape(x[0],[1,256,256,1]))\n",
    "      plt.imshow(preds[0,:,:,1])\n",
    "      plt.subplot(1,3,3)\n",
    "      plt.imshow(x[1][:,:,1])\n",
    "      plt.show()\n",
    "   else:\n",
    "      break\n",
    "   n+=1"
   ]
  },
  {
   "cell_type": "code",
   "execution_count": null,
   "metadata": {},
   "outputs": [],
   "source": []
  }
 ],
 "metadata": {
  "kernelspec": {
   "display_name": "tf2.8",
   "language": "python",
   "name": "tf2.8"
  },
  "language_info": {
   "codemirror_mode": {
    "name": "ipython",
    "version": 3
   },
   "file_extension": ".py",
   "mimetype": "text/x-python",
   "name": "python",
   "nbconvert_exporter": "python",
   "pygments_lexer": "ipython3",
   "version": "3.10.0"
  },
  "orig_nbformat": 4,
  "vscode": {
   "interpreter": {
    "hash": "f9b479fa97f672ded16c3aa2c05a2af574f512ec55675434aaf269f9ffd0698c"
   }
  }
 },
 "nbformat": 4,
 "nbformat_minor": 2
}
