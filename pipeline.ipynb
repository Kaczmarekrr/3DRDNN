{
 "cells": [
  {
   "cell_type": "markdown",
   "metadata": {},
   "source": [
    "# 3DRDNN\n",
    "\n",
    "Main pipeline for research in my Master.\n",
    "\n",
    "## goals in this notebook\n",
    "\n",
    "Prepare the pipeline for any 3d DNN to train on CT data.\n",
    "1) data loader\n",
    "2) DNN\n",
    "3) Training\n",
    "4) Results comparison"
   ]
  },
  {
   "cell_type": "code",
   "execution_count": 1,
   "metadata": {},
   "outputs": [
    {
     "name": "stdout",
     "output_type": "stream",
     "text": [
      "TensorFlow Version: 2.8.0\n",
      "/device:GPU:0\n"
     ]
    }
   ],
   "source": [
    "# Testing reading GPU\n",
    "from distutils.version import LooseVersion\n",
    "import warnings\n",
    "import tensorflow as tf\n",
    "import os\n",
    "from matplotlib import pyplot as plt\n",
    "import numpy as np\n",
    "import glob\n",
    "# Check TensorFlow Version\n",
    "print('TensorFlow Version: {}'.format(tf.__version__))\n",
    "\n",
    "# Check for a GPU\n",
    "if not tf.test.gpu_device_name():\n",
    "    warnings.warn('No GPU found. Please ensure you have installed TensorFlow correctly')\n",
    "else:\n",
    "    print(tf.test.gpu_device_name())"
   ]
  },
  {
   "cell_type": "code",
   "execution_count": 2,
   "metadata": {},
   "outputs": [
    {
     "name": "stdout",
     "output_type": "stream",
     "text": [
      "<class 'generator'>\n",
      "3372\n",
      "1138\n"
     ]
    }
   ],
   "source": [
    "# Data loader\n",
    "from utils import data_loader\n",
    "import random\n",
    "\n",
    "\n",
    "\n",
    "loader = data_loader.NiiDataLoader()\n",
    "\"\"\"\n",
    "#random.shuffle(files_segmenation)\n",
    "#random.shuffle(files_volume)\n",
    "\n",
    "train_volume = files_volume[0:22]\n",
    "train_segmentation = files_segmenation[0:22]\n",
    "\n",
    "print(train_volume)\n",
    "print(train_segmentation)\n",
    "\n",
    "valid_volume = files_volume[22:]\n",
    "valid_segmentation = files_segmenation[22:]\n",
    "\n",
    "print(valid_volume)\n",
    "print(valid_segmentation)\n",
    "\n",
    "\n",
    "\"\"\"\n",
    "\n",
    "train_generator = loader.data_generator_2d(0)\n",
    "valid_generator = loader.data_generator_2d(1)\n",
    "counter_train = 11391\n",
    "counter_valid = 3527\n",
    "\n",
    "print(type(train_generator))\n",
    "\"\"\"\n",
    "for x in train_generator:\n",
    "    counter_train+=1\n",
    "\n",
    "for x in valid_generator:\n",
    "    counter_valid+=1\"\"\"\n",
    "\n",
    "\"\"\"<class 'generator'> \n",
    "counter_train 3372\n",
    "counter_valid 1138\"\"\"\n",
    "counter_train = 0\n",
    "counter_valid = 0\n",
    "for x in train_generator:\n",
    "    counter_train+=1\n",
    "for x in valid_generator:\n",
    "    counter_valid+=1\n",
    "print(counter_train)\n",
    "print(counter_valid)"
   ]
  },
  {
   "cell_type": "code",
   "execution_count": 3,
   "metadata": {},
   "outputs": [
    {
     "name": "stdout",
     "output_type": "stream",
     "text": [
      "<BatchDataset element_spec=(TensorSpec(shape=(None, 256, 256, 1), dtype=tf.float32, name=None), TensorSpec(shape=(None, 256, 256, 2), dtype=tf.float32, name=None))>\n",
      "<BatchDataset element_spec=(TensorSpec(shape=(None, 256, 256, 1), dtype=tf.float32, name=None), TensorSpec(shape=(None, 256, 256, 2), dtype=tf.float32, name=None))>\n"
     ]
    }
   ],
   "source": [
    "#datasets for tf\n",
    "batch_size = 8\n",
    "dataset = tf.data.Dataset.from_generator(\n",
    "     loader.data_generator_2d,\n",
    "     (tf.float32,tf.float32), \n",
    "    (tf.TensorShape([256,256,1]), tf.TensorShape([256,256,2])), args = ([0]))\n",
    "dataset = dataset.repeat(101).batch(batch_size)\n",
    "\n",
    "valid_dataset = tf.data.Dataset.from_generator(\n",
    "     loader.data_generator_2d,\n",
    "     (tf.float32,tf.float32), \n",
    "    (tf.TensorShape([256,256,1]), tf.TensorShape([256,256,2])),args = ([1]))\n",
    "valid_dataset = valid_dataset.repeat(100).batch(batch_size) #.shuffle(1000,  reshuffle_each_iteration=True)\n",
    "\n",
    "\n",
    "print(dataset)\n",
    "print(valid_dataset)"
   ]
  },
  {
   "cell_type": "code",
   "execution_count": 4,
   "metadata": {},
   "outputs": [],
   "source": [
    "# Network set-up\n",
    "from utils import models\n",
    "\n",
    "model = models.model_call(model_name=\"2DUNET\",px=256,features=64)"
   ]
  },
  {
   "cell_type": "code",
   "execution_count": 5,
   "metadata": {},
   "outputs": [
    {
     "name": "stdout",
     "output_type": "stream",
     "text": [
      "Model: \"model\"\n",
      "__________________________________________________________________________________________________\n",
      " Layer (type)                   Output Shape                    Param #     Connected to          \n",
      "==================================================================================================\n",
      " input_1 (InputLayer)           [(None, 256, 256, 1)]           0           []                    \n",
      "                                                                                                  \n",
      " conv2d (Conv2D)                (None, 256, 256, 64)            640         ['input_1[0][0]']     \n",
      "                                                                                                  \n",
      " conv2d_1 (Conv2D)              (None, 256, 256, 64)            36928       ['conv2d[0][0]']      \n",
      "                                                                                                  \n",
      " max_pooling2d (MaxPooling2D)   (None, 128, 128, 64)            0           ['conv2d_1[0][0]']    \n",
      "                                                                                                  \n",
      " dropout (Dropout)              (None, 128, 128, 64)            0           ['max_pooling2d[0][0]'\n",
      "                                                                            ]                     \n",
      "                                                                                                  \n",
      " conv2d_2 (Conv2D)              (None, 128, 128, 128)           73856       ['dropout[0][0]']     \n",
      "                                                                                                  \n",
      " conv2d_3 (Conv2D)              (None, 128, 128, 128)           147584      ['conv2d_2[0][0]']    \n",
      "                                                                                                  \n",
      " max_pooling2d_1 (MaxPooling2D)  (None, 64, 64, 128)            0           ['conv2d_3[0][0]']    \n",
      "                                                                                                  \n",
      " dropout_1 (Dropout)            (None, 64, 64, 128)             0           ['max_pooling2d_1[0][0\n",
      "                                                                            ]']                   \n",
      "                                                                                                  \n",
      " conv2d_4 (Conv2D)              (None, 64, 64, 256)             295168      ['dropout_1[0][0]']   \n",
      "                                                                                                  \n",
      " conv2d_5 (Conv2D)              (None, 64, 64, 256)             590080      ['conv2d_4[0][0]']    \n",
      "                                                                                                  \n",
      " max_pooling2d_2 (MaxPooling2D)  (None, 32, 32, 256)            0           ['conv2d_5[0][0]']    \n",
      "                                                                                                  \n",
      " dropout_2 (Dropout)            (None, 32, 32, 256)             0           ['max_pooling2d_2[0][0\n",
      "                                                                            ]']                   \n",
      "                                                                                                  \n",
      " conv2d_6 (Conv2D)              (None, 32, 32, 512)             1180160     ['dropout_2[0][0]']   \n",
      "                                                                                                  \n",
      " conv2d_7 (Conv2D)              (None, 32, 32, 512)             2359808     ['conv2d_6[0][0]']    \n",
      "                                                                                                  \n",
      " max_pooling2d_3 (MaxPooling2D)  (None, 16, 16, 512)            0           ['conv2d_7[0][0]']    \n",
      "                                                                                                  \n",
      " dropout_3 (Dropout)            (None, 16, 16, 512)             0           ['max_pooling2d_3[0][0\n",
      "                                                                            ]']                   \n",
      "                                                                                                  \n",
      " conv2d_8 (Conv2D)              (None, 16, 16, 1024)            4719616     ['dropout_3[0][0]']   \n",
      "                                                                                                  \n",
      " conv2d_9 (Conv2D)              (None, 16, 16, 1024)            9438208     ['conv2d_8[0][0]']    \n",
      "                                                                                                  \n",
      " conv2d_transpose (Conv2DTransp  (None, 32, 32, 512)            4719104     ['conv2d_9[0][0]']    \n",
      " ose)                                                                                             \n",
      "                                                                                                  \n",
      " concatenate (Concatenate)      (None, 32, 32, 1024)            0           ['conv2d_transpose[0][\n",
      "                                                                            0]',                  \n",
      "                                                                             'conv2d_7[0][0]']    \n",
      "                                                                                                  \n",
      " dropout_4 (Dropout)            (None, 32, 32, 1024)            0           ['concatenate[0][0]'] \n",
      "                                                                                                  \n",
      " conv2d_10 (Conv2D)             (None, 32, 32, 512)             4719104     ['dropout_4[0][0]']   \n",
      "                                                                                                  \n",
      " conv2d_11 (Conv2D)             (None, 32, 32, 512)             2359808     ['conv2d_10[0][0]']   \n",
      "                                                                                                  \n",
      " conv2d_transpose_1 (Conv2DTran  (None, 64, 64, 256)            1179904     ['conv2d_11[0][0]']   \n",
      " spose)                                                                                           \n",
      "                                                                                                  \n",
      " concatenate_1 (Concatenate)    (None, 64, 64, 512)             0           ['conv2d_transpose_1[0\n",
      "                                                                            ][0]',                \n",
      "                                                                             'conv2d_5[0][0]']    \n",
      "                                                                                                  \n",
      " dropout_5 (Dropout)            (None, 64, 64, 512)             0           ['concatenate_1[0][0]'\n",
      "                                                                            ]                     \n",
      "                                                                                                  \n",
      " conv2d_12 (Conv2D)             (None, 64, 64, 256)             1179904     ['dropout_5[0][0]']   \n",
      "                                                                                                  \n",
      " conv2d_13 (Conv2D)             (None, 64, 64, 256)             590080      ['conv2d_12[0][0]']   \n",
      "                                                                                                  \n",
      " conv2d_transpose_2 (Conv2DTran  (None, 128, 128, 128)          295040      ['conv2d_13[0][0]']   \n",
      " spose)                                                                                           \n",
      "                                                                                                  \n",
      " concatenate_2 (Concatenate)    (None, 128, 128, 256)           0           ['conv2d_transpose_2[0\n",
      "                                                                            ][0]',                \n",
      "                                                                             'conv2d_3[0][0]']    \n",
      "                                                                                                  \n",
      " dropout_6 (Dropout)            (None, 128, 128, 256)           0           ['concatenate_2[0][0]'\n",
      "                                                                            ]                     \n",
      "                                                                                                  \n",
      " conv2d_14 (Conv2D)             (None, 128, 128, 128)           295040      ['dropout_6[0][0]']   \n",
      "                                                                                                  \n",
      " conv2d_15 (Conv2D)             (None, 128, 128, 128)           147584      ['conv2d_14[0][0]']   \n",
      "                                                                                                  \n",
      " conv2d_transpose_3 (Conv2DTran  (None, 256, 256, 64)           73792       ['conv2d_15[0][0]']   \n",
      " spose)                                                                                           \n",
      "                                                                                                  \n",
      " concatenate_3 (Concatenate)    (None, 256, 256, 128)           0           ['conv2d_transpose_3[0\n",
      "                                                                            ][0]',                \n",
      "                                                                             'conv2d_1[0][0]']    \n",
      "                                                                                                  \n",
      " dropout_7 (Dropout)            (None, 256, 256, 128)           0           ['concatenate_3[0][0]'\n",
      "                                                                            ]                     \n",
      "                                                                                                  \n",
      " conv2d_16 (Conv2D)             (None, 256, 256, 64)            73792       ['dropout_7[0][0]']   \n",
      "                                                                                                  \n",
      " conv2d_17 (Conv2D)             (None, 256, 256, 64)            36928       ['conv2d_16[0][0]']   \n",
      "                                                                                                  \n",
      " conv2d_18 (Conv2D)             (None, 256, 256, 2)             130         ['conv2d_17[0][0]']   \n",
      "                                                                                                  \n",
      "==================================================================================================\n",
      "Total params: 34,512,258\n",
      "Trainable params: 34,512,258\n",
      "Non-trainable params: 0\n",
      "__________________________________________________________________________________________________\n"
     ]
    }
   ],
   "source": [
    "# Metrics and training\n",
    "\n",
    "import tensorflow.keras.backend as K\n",
    "def dice(y_true, y_pred):\n",
    "    smooth = 1\n",
    "    intersection = K.sum(y_true * y_pred, axis=list(range(1, K.ndim(y_true))))\n",
    "    union = K.sum(y_true, axis=list(range(1, K.ndim(y_true)))) + K.sum(y_pred, axis=list(range(1, K.ndim(y_true))))\n",
    "    return K.mean((2. * intersection + smooth) / (union + smooth), axis=0)\n",
    "\n",
    "adam = tf.keras.optimizers.Adam(\n",
    "    learning_rate=0.01, beta_1=0.9, beta_2=0.999, epsilon=1e-07, amsgrad=False,\n",
    "    name='Adam')\n",
    "precision = tf.keras.metrics.Precision(\n",
    "    thresholds=0.5, class_id=1)\n",
    "recall = tf.keras.metrics.Recall(\n",
    "    thresholds=0.5, class_id=1)\n",
    "\n",
    "model.compile(loss=\"categorical_crossentropy\", optimizer=adam, metrics=[precision,recall])\n",
    "model.summary(positions=[.33, .66, .78, 1.])"
   ]
  },
  {
   "cell_type": "code",
   "execution_count": 6,
   "metadata": {},
   "outputs": [
    {
     "name": "stdout",
     "output_type": "stream",
     "text": [
      "Epoch 1/10\n",
      " 91/421 [=====>........................] - ETA: 2:10 - loss: 7127.6753 - precision: 0.0734 - recall: 0.0354"
     ]
    }
   ],
   "source": [
    "# Results\n",
    "# reading checkpoint if needen\n",
    "#\n",
    "#################################\n",
    "\n",
    "from tensorflow.keras.callbacks import EarlyStopping, ModelCheckpoint, ReduceLROnPlateau,TerminateOnNaN\n",
    "# training\n",
    "callbacks = [\n",
    "    #EarlyStopping(patience=10, verbose=1),\n",
    "    ReduceLROnPlateau(factor=0.1, patience=5, min_lr=0.0000001, verbose=1),\n",
    "    ModelCheckpoint(\"2DUNET_liver_test.h5\", verbose=1, save_best_only=True, save_weights_only=True),\n",
    "    TerminateOnNaN()]\n",
    "epochs = 10\n",
    "steps_per_epoch = counter_train / batch_size #ilość kawałków x plików / batch_size* z dokładnościa do dziielnia przez 32\n",
    "\n",
    "validations_steps = counter_valid / batch_size #ilość kawałków x plików /batch_size\n",
    "history = model.fit(dataset,validation_data=valid_dataset, callbacks=callbacks, initial_epoch=0,\n",
    "                    epochs=epochs, validation_steps = validations_steps, steps_per_epoch=steps_per_epoch\n",
    "                    )"
   ]
  },
  {
   "cell_type": "code",
   "execution_count": null,
   "metadata": {},
   "outputs": [],
   "source": []
  },
  {
   "cell_type": "code",
   "execution_count": null,
   "metadata": {},
   "outputs": [],
   "source": []
  }
 ],
 "metadata": {
  "kernelspec": {
   "display_name": "tf2.8",
   "language": "python",
   "name": "tf2.8"
  },
  "language_info": {
   "codemirror_mode": {
    "name": "ipython",
    "version": 3
   },
   "file_extension": ".py",
   "mimetype": "text/x-python",
   "name": "python",
   "nbconvert_exporter": "python",
   "pygments_lexer": "ipython3",
   "version": "3.10.0"
  },
  "orig_nbformat": 4,
  "vscode": {
   "interpreter": {
    "hash": "f9b479fa97f672ded16c3aa2c05a2af574f512ec55675434aaf269f9ffd0698c"
   }
  }
 },
 "nbformat": 4,
 "nbformat_minor": 2
}
